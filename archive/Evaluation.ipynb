{
 "cells": [
  {
   "cell_type": "code",
   "execution_count": 31,
   "metadata": {},
   "outputs": [],
   "source": [
    "# import important library\n",
    "import pandas as pd\n",
    "import numpy as np\n",
    "import bot"
   ]
  },
  {
   "cell_type": "code",
   "execution_count": 208,
   "metadata": {},
   "outputs": [
    {
     "data": {
      "text/plain": [
       "<module 'bot' from '/Users/henrytran/Documents/GitHub/aias_trading25/bot.py'>"
      ]
     },
     "execution_count": 208,
     "metadata": {},
     "output_type": "execute_result"
    }
   ],
   "source": [
    "import importlib\n",
    "importlib.reload(bot)"
   ]
  },
  {
   "cell_type": "markdown",
   "metadata": {},
   "source": [
    "# 1. Data Processing"
   ]
  },
  {
   "cell_type": "code",
   "execution_count": 2,
   "metadata": {},
   "outputs": [
    {
     "data": {
      "text/html": [
       "<div>\n",
       "<style scoped>\n",
       "    .dataframe tbody tr th:only-of-type {\n",
       "        vertical-align: middle;\n",
       "    }\n",
       "\n",
       "    .dataframe tbody tr th {\n",
       "        vertical-align: top;\n",
       "    }\n",
       "\n",
       "    .dataframe thead th {\n",
       "        text-align: right;\n",
       "    }\n",
       "</style>\n",
       "<table border=\"1\" class=\"dataframe\">\n",
       "  <thead>\n",
       "    <tr style=\"text-align: right;\">\n",
       "      <th></th>\n",
       "      <th>unix</th>\n",
       "      <th>date</th>\n",
       "      <th>symbol</th>\n",
       "      <th>open</th>\n",
       "      <th>high</th>\n",
       "      <th>low</th>\n",
       "      <th>close</th>\n",
       "      <th>Volume BTC</th>\n",
       "      <th>Volume USD</th>\n",
       "    </tr>\n",
       "  </thead>\n",
       "  <tbody>\n",
       "    <tr>\n",
       "      <th>0</th>\n",
       "      <td>1646092800</td>\n",
       "      <td>2022-03-01 00:00:00</td>\n",
       "      <td>BTC/USD</td>\n",
       "      <td>43221.71</td>\n",
       "      <td>43626.49</td>\n",
       "      <td>43185.48</td>\n",
       "      <td>43185.48</td>\n",
       "      <td>49.006289</td>\n",
       "      <td>2.116360e+06</td>\n",
       "    </tr>\n",
       "    <tr>\n",
       "      <th>1</th>\n",
       "      <td>1646006400</td>\n",
       "      <td>2022-02-28 00:00:00</td>\n",
       "      <td>BTC/USD</td>\n",
       "      <td>37717.10</td>\n",
       "      <td>44256.08</td>\n",
       "      <td>37468.99</td>\n",
       "      <td>43178.98</td>\n",
       "      <td>3160.618070</td>\n",
       "      <td>1.364723e+08</td>\n",
       "    </tr>\n",
       "    <tr>\n",
       "      <th>2</th>\n",
       "      <td>1645920000</td>\n",
       "      <td>2022-02-27 00:00:00</td>\n",
       "      <td>BTC/USD</td>\n",
       "      <td>39146.66</td>\n",
       "      <td>39886.92</td>\n",
       "      <td>37015.74</td>\n",
       "      <td>37712.68</td>\n",
       "      <td>1701.817043</td>\n",
       "      <td>6.418008e+07</td>\n",
       "    </tr>\n",
       "    <tr>\n",
       "      <th>3</th>\n",
       "      <td>1645833600</td>\n",
       "      <td>2022-02-26 00:00:00</td>\n",
       "      <td>BTC/USD</td>\n",
       "      <td>39242.64</td>\n",
       "      <td>40330.99</td>\n",
       "      <td>38600.00</td>\n",
       "      <td>39146.66</td>\n",
       "      <td>912.724087</td>\n",
       "      <td>3.573010e+07</td>\n",
       "    </tr>\n",
       "    <tr>\n",
       "      <th>4</th>\n",
       "      <td>1645747200</td>\n",
       "      <td>2022-02-25 00:00:00</td>\n",
       "      <td>BTC/USD</td>\n",
       "      <td>38360.93</td>\n",
       "      <td>39727.97</td>\n",
       "      <td>38027.61</td>\n",
       "      <td>39231.64</td>\n",
       "      <td>2202.851827</td>\n",
       "      <td>8.642149e+07</td>\n",
       "    </tr>\n",
       "  </tbody>\n",
       "</table>\n",
       "</div>"
      ],
      "text/plain": [
       "         unix                 date   symbol      open      high       low  \\\n",
       "0  1646092800  2022-03-01 00:00:00  BTC/USD  43221.71  43626.49  43185.48   \n",
       "1  1646006400  2022-02-28 00:00:00  BTC/USD  37717.10  44256.08  37468.99   \n",
       "2  1645920000  2022-02-27 00:00:00  BTC/USD  39146.66  39886.92  37015.74   \n",
       "3  1645833600  2022-02-26 00:00:00  BTC/USD  39242.64  40330.99  38600.00   \n",
       "4  1645747200  2022-02-25 00:00:00  BTC/USD  38360.93  39727.97  38027.61   \n",
       "\n",
       "      close   Volume BTC    Volume USD  \n",
       "0  43185.48    49.006289  2.116360e+06  \n",
       "1  43178.98  3160.618070  1.364723e+08  \n",
       "2  37712.68  1701.817043  6.418008e+07  \n",
       "3  39146.66   912.724087  3.573010e+07  \n",
       "4  39231.64  2202.851827  8.642149e+07  "
      ]
     },
     "execution_count": 2,
     "metadata": {},
     "output_type": "execute_result"
    }
   ],
   "source": [
    "# read the csv file\n",
    "daily_df=pd.read_csv('BTC-Daily.csv')\n",
    "daily_df.head()"
   ]
  },
  {
   "cell_type": "code",
   "execution_count": 3,
   "metadata": {},
   "outputs": [],
   "source": [
    "# convert time strings into timestamps, and take only year, month and date values\n",
    "daily_df[\"date\"]=pd.to_datetime(daily_df[\"date\"]).dt.strftime(\"%Y-%m-%d\")"
   ]
  },
  {
   "cell_type": "code",
   "execution_count": 4,
   "metadata": {},
   "outputs": [
    {
     "data": {
      "text/plain": [
       "(2651, 9)"
      ]
     },
     "execution_count": 4,
     "metadata": {},
     "output_type": "execute_result"
    }
   ],
   "source": [
    "daily_df.shape"
   ]
  },
  {
   "cell_type": "markdown",
   "metadata": {},
   "source": [
    "The dataset has 2651 records from 2014 to 2022.\n",
    "\n",
    "As the data is needed for training and testing, every records before 2020 will be used for training and every records after 2020 will be used for testing."
   ]
  },
  {
   "cell_type": "code",
   "execution_count": 5,
   "metadata": {},
   "outputs": [],
   "source": [
    "# splitting the data\n",
    "training = daily_df[daily_df[\"date\"]<\"2020-01-01\"]\n",
    "testing = daily_df[daily_df[\"date\"]>=\"2020-01-01\"]"
   ]
  },
  {
   "cell_type": "code",
   "execution_count": 66,
   "metadata": {},
   "outputs": [],
   "source": [
    "# convert the data into csv files\n",
    "training.to_csv('training.csv')\n",
    "testing.to_csv('testing.csv')"
   ]
  },
  {
   "cell_type": "markdown",
   "metadata": {},
   "source": [
    "After splitting, the training dataset has 1860 records and the testing data has 791 records."
   ]
  },
  {
   "cell_type": "code",
   "execution_count": 6,
   "metadata": {},
   "outputs": [
    {
     "name": "stdout",
     "output_type": "stream",
     "text": [
      "(1860, 9)\n",
      "(791, 9)\n"
     ]
    }
   ],
   "source": [
    "print(training.shape)\n",
    "print(testing.shape)"
   ]
  },
  {
   "cell_type": "markdown",
   "metadata": {},
   "source": [
    "# 2. Hill-climbing algorithm"
   ]
  },
  {
   "cell_type": "markdown",
   "metadata": {},
   "source": [
    "## a. Try the bot"
   ]
  },
  {
   "cell_type": "code",
   "execution_count": 71,
   "metadata": {},
   "outputs": [],
   "source": [
    "# extract the data\n",
    "close_price_train=training[\"close\"]\n",
    "no_of_day_train=training.shape[0]\n",
    "close_price_test =testing[\"close\"]\n",
    "no_of_day_test=testing.shape[0]"
   ]
  },
  {
   "cell_type": "code",
   "execution_count": 72,
   "metadata": {},
   "outputs": [
    {
     "name": "stdout",
     "output_type": "stream",
     "text": [
      "[-5844.114 -4371.12  -2900.949 ...   371.484   374.107   375.274]\n",
      "1860\n",
      "[-6466.681  -5746.248  -5014.0975 ...   354.9755   357.9115   361.117 ]\n",
      "1860\n"
     ]
    }
   ],
   "source": [
    "low_sma = bot.wma(close_price_train, 10, bot.sma_filter(10))\n",
    "high_sma = bot.wma(close_price_train, 20, bot.sma_filter(20))\n",
    "\n",
    "print(low_sma)\n",
    "print(len(low_sma))\n",
    "print(high_sma)\n",
    "print(len(high_sma))"
   ]
  },
  {
   "cell_type": "code",
   "execution_count": 77,
   "metadata": {},
   "outputs": [],
   "source": [
    "# self-implementation for trading bot of sma\n",
    "def bot_sma(close_price, hfw, lfw):\n",
    "    low_sma = bot.wma(close_price, lfw, bot.sma_filter(lfw))\n",
    "    high_sma = bot.wma(close_price, hfw, bot.sma_filter(hfw))\n",
    "    buy_sell_signals=[]\n",
    "    for i in range(len(low_sma)-1):\n",
    "        if low_sma[i]<high_sma[i] and low_sma[i+1]>high_sma[i+1]:\n",
    "            buy_sell_signals.append(\"buy\")\n",
    "        elif low_sma[i]>high_sma[i] and low_sma[i+1]<high_sma[i+1]:\n",
    "            buy_sell_signals.append(\"sell\")\n",
    "        else:\n",
    "            buy_sell_signals.append(\"-\")\n",
    "    return buy_sell_signals"
   ]
  },
  {
   "cell_type": "markdown",
   "metadata": {},
   "source": [
    "## b. Hill-climbing algorithm"
   ]
  },
  {
   "cell_type": "code",
   "execution_count": 231,
   "metadata": {},
   "outputs": [],
   "source": [
    "# Pseudocode for hill-climbing \n",
    "\n",
    "def hill_climbing(bot_type, high_frequency_window, low_frequency_window, alpha=0, max_iter=100):\n",
    "    high_window = high_frequency_window\n",
    "    low_window = low_frequency_window\n",
    "    new_high_frequency_window = high_frequency_window\n",
    "    new_low_frequency_window= low_frequency_window\n",
    "    new_alpha=alpha\n",
    "    cash1=0\n",
    "    for i in range(max_iter):\n",
    "        # find the correct parameter tweak:\n",
    "        if bot_type.lower() == 'sma':\n",
    "            new_high_frequency_window, new_low_frequency_window = parameter_tweak('sma', high_window, low_window)\n",
    "        elif bot_type.lower() == 'smaema' and alpha !=0:\n",
    "            new_high_frequency_window, new_low_frequency_window, new_alpha = parameter_tweak('smaema', high_window, low_window, alpha)\n",
    "        elif bot_type.lower() == 'complex':\n",
    "            new_high_frequency_window, new_low_frequency_window = parameter_tweak('complex',high_window, low_window)\n",
    "            \n",
    "        # run the total cash return after trading\n",
    "        cash1=bot_fitness_func(bot_type, high_window, low_window, alpha)\n",
    "        cash2=bot_fitness_func(bot_type, new_high_frequency_window, new_low_frequency_window, new_alpha)\n",
    "        # compare the cash earned after tweaking the parameters\n",
    "        if  cash2> cash1:\n",
    "            high_window = new_high_frequency_window\n",
    "            low_window = new_low_frequency_window\n",
    "            cash1=cash2\n",
    "    return high_window, low_window, cash1\n",
    "\n",
    "def parameter_tweak(bot_type, hfw, lfw, alpha =0):\n",
    "    if bot_type.lower() == 'sma':\n",
    "        new_hfw, new_lfw = window_tweak(hfw, lfw)\n",
    "        return new_hfw, new_lfw\n",
    "    elif bot_type.lower() == 'smaema' and alpha !=0:\n",
    "        new_hfw, new_lfw = window_tweak(hfw, lfw)\n",
    "        new_alpha = alpha_tweak(alpha)\n",
    "        return new_hfw, new_lfw, new_alpha\n",
    "    elif bot_type.lower() == 'complex':\n",
    "        new_hfw, new_lfw = complex_tweak(hfw, lfw)\n",
    "        return new_hfw, new_lfw\n",
    "\n",
    "def window_tweak(hfw, lfw):\n",
    "    rng = np.random.default_rng()\n",
    "    for _ in range(100):\n",
    "        # new high frequency window\n",
    "        a=rng.integers(-5,6)\n",
    "        new_hfw=hfw+a\n",
    "        # new low frequency window\n",
    "        b=rng.integers(-5,6)\n",
    "        new_lfw=lfw+b\n",
    "        # we check to make sure that new_hfw in range(11,40) and new_lfw(2,10)\n",
    "        new_hfw = max(2, max(2, new_hfw))\n",
    "        new_lfw = max(11, min(40, new_lfw))\n",
    "        if new_hfw < new_lfw:\n",
    "            return new_hfw, new_lfw\n",
    "    return hfw, lfw\n",
    "\n",
    "def alpha_tweak(alpha):\n",
    "    rng = np.random.default_rng()\n",
    "    for _ in range(100):\n",
    "        diff = rng.uniform(-0.15, 0.15)\n",
    "        new_alpha = alpha + diff\n",
    "        if 0.1<= new_alpha <= 1:\n",
    "            return new_alpha\n",
    "    return alpha # if after 100 loops and cannot find the optimal value, then we return the original alpha\n",
    "\n",
    "def weights_tweak(weight_lst):\n",
    "    rng = np.random.default_rng()\n",
    "    # random index number of a weight in a list\n",
    "    position=rng.integers(0,3)\n",
    "    # normalised weights\n",
    "    normalised_weights = [float(weight)/sum(weight_lst) for weight in weight_lst]\n",
    "\n",
    "    # tweak the randomly selected weight with proportion different\n",
    "    selected_weight_rate = normalised_weights[position]\n",
    "    diff = np.random.uniform(-0.15, 0.15)\n",
    "    selected_weight_rate += diff\n",
    "\n",
    "    # the rate of other weights\n",
    "    other_weight_idx= [idx for idx in range(3) if idx!=position]\n",
    "    remainder_rate = 1- selected_weight_rate \n",
    "    # the remaining 2 weights, we generate randomly the proportion and multiply it with the current rates \n",
    "    one_weight_rate = rng.uniform(0.1, 0.9)\n",
    "    another_weight_rate = 1- one_weight_rate\n",
    "    other_weight_rates=[one_weight_rate, another_weight_rate]\n",
    "    new_other_weight_rates = [remainder_rate * s for s in other_weight_rates]\n",
    "\n",
    "    new_weights = [0,0,0]\n",
    "    new_weights[position] = selected_weight_rate * sum(weight_lst)\n",
    "    for i in range(2):\n",
    "        idx = other_weight_idx[i]\n",
    "        new_weights[idx] = new_other_weight_rates[i] * sum(weight_lst)\n",
    "\n",
    "    return new_weights[0], new_weights[1], new_weights[2]\n",
    "\n",
    "\n",
    "def complex_tweak(hfw, lfw):\n",
    "    # in this code, hfw and lfw input are array-type in format of [w1, w2, w3, d1, d2, d3, sf]\n",
    "    # weight tweak\n",
    "    new_hfw_w1, new_hfw_w2,new_hfw_w3 = weights_tweak(hfw[0:3])\n",
    "    new_lfw_w1, new_lfw_w2,new_lfw_w3 = weights_tweak(lfw[0:3])\n",
    "\n",
    "    # window tweak\n",
    "    new_hfw_d1, new_lfw_d1 = window_tweak(hfw[3], lfw[3])\n",
    "    new_hfw_d2, new_lfw_d2 = window_tweak(hfw[4], lfw[4])\n",
    "    new_hfw_d3, new_lfw_d3 = window_tweak(hfw[5], lfw[5])\n",
    "\n",
    "    # alpha tweak\n",
    "    new_hfw_alpha = alpha_tweak(hfw[-1])\n",
    "    new_lfw_alpha = alpha_tweak(lfw[-1])\n",
    "\n",
    "    return [new_hfw_w1, new_hfw_w2, new_hfw_w3, new_hfw_d1, new_hfw_d2, new_hfw_d3,new_hfw_alpha], [new_lfw_w1, new_lfw_w2, new_lfw_w3, new_lfw_d1, new_lfw_d2, new_lfw_d3, new_lfw_alpha]\n",
    "\n"
   ]
  },
  {
   "cell_type": "code",
   "execution_count": 243,
   "metadata": {},
   "outputs": [
    {
     "data": {
      "text/plain": [
       "(2, np.int64(32), np.float64(1902.082955799861))"
      ]
     },
     "execution_count": 243,
     "metadata": {},
     "output_type": "execute_result"
    }
   ],
   "source": [
    "#sma\n",
    "hfw_result, lfw_result, cash_result = hill_climbing('sma',5,30)\n",
    "hfw_result, lfw_result, cash_result"
   ]
  },
  {
   "cell_type": "code",
   "execution_count": 241,
   "metadata": {},
   "outputs": [
    {
     "data": {
      "text/plain": [
       "(np.int64(9), 40, np.float64(1367.2552154116331))"
      ]
     },
     "execution_count": 241,
     "metadata": {},
     "output_type": "execute_result"
    }
   ],
   "source": [
    "#smaema\n",
    "hfw_result, lfw_result, cash_result = hill_climbing('smaema',5,30, 0.2)\n",
    "hfw_result, lfw_result, cash_result"
   ]
  },
  {
   "cell_type": "code",
   "execution_count": 244,
   "metadata": {},
   "outputs": [
    {
     "data": {
      "text/plain": [
       "([-0.32673453515365186,\n",
       "  -0.6775756757789337,\n",
       "  7.004310210932586,\n",
       "  np.int64(15),\n",
       "  np.int64(11),\n",
       "  np.int64(18),\n",
       "  0.8986501359292932],\n",
       " [1.5274477021983976,\n",
       "  -0.39246832431461265,\n",
       "  4.865020622116216,\n",
       "  np.int64(34),\n",
       "  np.int64(26),\n",
       "  np.int64(31),\n",
       "  0.42470924645802766],\n",
       " np.float64(112682.51986109387))"
      ]
     },
     "execution_count": 244,
     "metadata": {},
     "output_type": "execute_result"
    }
   ],
   "source": [
    "#complex\n",
    "hfw_result, lfw_result, cash_result = hill_climbing('complex',[1,2,3,5,5,5,0.3],[3,2,1,30,30,30,0.1])\n",
    "hfw_result, lfw_result, cash_result"
   ]
  },
  {
   "cell_type": "code",
   "execution_count": 47,
   "metadata": {},
   "outputs": [
    {
     "data": {
      "text/plain": [
       "1000"
      ]
     },
     "execution_count": 47,
     "metadata": {},
     "output_type": "execute_result"
    }
   ],
   "source": [
    "# final cash amount\n",
    "cash_result"
   ]
  },
  {
   "cell_type": "markdown",
   "metadata": {},
   "source": [
    "# 3. Fitness function and Bot evaluation function"
   ]
  },
  {
   "cell_type": "code",
   "execution_count": null,
   "metadata": {},
   "outputs": [],
   "source": [
    "def bot_fitness_func(high_window, low_window, alpha=0): # change bot_signals to high_frequency_window_size, low_frequency_window_size\n",
    "    \"\"\"\n",
    "    This function will calculate the fitness (total cash earned from the buy/sell signals) of the trading bot\n",
    "    Parameters:\n",
    "    - \n",
    "    - \n",
    "    Return:\n",
    "    - \n",
    "    \"\"\" \n",
    "    \n",
    "    # call the bot in here\n",
    "    # Jackie looks after this part - just need to call the bot with 2 parameters (high_frequency_window_size, low_frequency_window_size)\n",
    "    \n",
    "    # intialise bot, use training dataset for optimisation algorithms fitness functions\n",
    "    bot_signals=[]\n",
    "    close_price = pd.read_csv('training.csv')['close']\n",
    "    \n",
    "    # if bot_type.lower() == 'sma' and alpha ==0:\n",
    "    bot_signals = bot.get_signals_sma2(close_price, high_window, low_window) #need to think about how to call 2 other bot algorithms\n",
    "    # elif bot_type.lower() == 'smaema' and alpha!=0:\n",
    "    #     bot_signals = bot.get_signals_smaema(close_price, high_window, low_window, alpha)\n",
    "    # elif bot_type.lower() == 'complex' and alpha==0: #as alpha values were stored in the list of high_window and low_window\n",
    "    #     bot_signals = bot.get_signals_complex(close_price, high_window, low_window)\n",
    "\n",
    "    # initial values\n",
    "    cash = 1000\n",
    "    fee=0.03\n",
    "    bitcoin = 0.0\n",
    "\n",
    "    #loop through the time length\n",
    "    for i in range(len(close_price)-1):\n",
    "        close=close_price.iloc[i]\n",
    "        # buy, ensure we have cash to buy\n",
    "        if bot_signals[i] == \"buy\" and cash>0:\n",
    "            bitcoin =  (cash*(1-fee))/close\n",
    "            cash = 0\n",
    "        # sell, ensure we have bitcoin to sell\n",
    "        elif bot_signals[i] == \"sell\" and bitcoin>0:\n",
    "            cash = bitcoin * close * (1-fee)\n",
    "            bitcoin =0\n",
    "    \n",
    "    # final evaluation to change back to cash\n",
    "    last_close=close_price.iloc[-1]\n",
    "    if bitcoin>0:\n",
    "        cash = bitcoin * last_close * (1-fee)\n",
    "        bitcoin =0\n",
    "    \n",
    "    return cash"
   ]
  },
  {
   "cell_type": "code",
   "execution_count": null,
   "metadata": {},
   "outputs": [],
   "source": [
    "def bot_evaluation(bot_signals, time, close_price):\n",
    "    \"\"\"\n",
    "    This function will calculate the total cash earned from the buy/sell signals of the trading bot.\n",
    "    Parameters:\n",
    "    - bot_signals (list): including the buy/sell and keep signal\n",
    "    - time: recorded trading time (daily)\n",
    "    Return:\n",
    "    - result: a nested list, with each smallest contains the time of the transaction, the amount of cash and amount of bitcoin\n",
    "    \"\"\" \n",
    "    # initial values\n",
    "    cash = 1000\n",
    "    fee=0.03\n",
    "    bitcoin = 0.0\n",
    "\n",
    "    result =[]\n",
    "    \n",
    "    #loop through the time length\n",
    "    for i in range(len(time)-1):\n",
    "        close_price=close[i]\n",
    "        # buy\n",
    "        if bot_signals[i] == \"buy\":\n",
    "            bitcoin =  (cash*(1-fee))/close_price\n",
    "            cash = 0\n",
    "            result.append([time[i],cash, bitcoin])\n",
    "        # sell\n",
    "        elif bot_signals[i] == \"sell\":\n",
    "            cash = bitcoin * close_price * (1-fee)\n",
    "            bitcoin =0\n",
    "            result.append([time[i],cash, bitcoin])\n",
    "    \n",
    "    # final evaluation to change back to cash\n",
    "    close_price=close[-1]\n",
    "    if bitcoin>0:\n",
    "        cash = bitcoin * close_price * (1-fee)\n",
    "        bitcoin =0\n",
    "        result.append([time[i],cash, bitcoin])\n",
    "    \n",
    "    return result"
   ]
  },
  {
   "cell_type": "code",
   "execution_count": null,
   "metadata": {},
   "outputs": [],
   "source": [
    "#def print_nicely(list):\n",
    "    "
   ]
  }
 ],
 "metadata": {
  "kernelspec": {
   "display_name": ".venv",
   "language": "python",
   "name": "python3"
  },
  "language_info": {
   "codemirror_mode": {
    "name": "ipython",
    "version": 3
   },
   "file_extension": ".py",
   "mimetype": "text/x-python",
   "name": "python",
   "nbconvert_exporter": "python",
   "pygments_lexer": "ipython3",
   "version": "3.9.6"
  }
 },
 "nbformat": 4,
 "nbformat_minor": 2
}
