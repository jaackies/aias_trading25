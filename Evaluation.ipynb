{
 "cells": [
  {
   "cell_type": "code",
   "execution_count": 61,
   "metadata": {},
   "outputs": [],
   "source": [
    "# import important library\n",
    "import pandas as pd\n",
    "import numpy as np\n",
    "import bot"
   ]
  },
  {
   "cell_type": "code",
   "execution_count": 2,
   "metadata": {},
   "outputs": [
    {
     "data": {
      "text/plain": [
       "<module 'bot' from '/Users/henrytran/Documents/GitHub/aias_trading25/bot.py'>"
      ]
     },
     "execution_count": 2,
     "metadata": {},
     "output_type": "execute_result"
    }
   ],
   "source": [
    "import importlib\n",
    "importlib.reload(bot)"
   ]
  },
  {
   "cell_type": "markdown",
   "metadata": {},
   "source": [
    "# 1. Data Processing"
   ]
  },
  {
   "cell_type": "code",
   "execution_count": 3,
   "metadata": {},
   "outputs": [
    {
     "data": {
      "text/html": [
       "<div>\n",
       "<style scoped>\n",
       "    .dataframe tbody tr th:only-of-type {\n",
       "        vertical-align: middle;\n",
       "    }\n",
       "\n",
       "    .dataframe tbody tr th {\n",
       "        vertical-align: top;\n",
       "    }\n",
       "\n",
       "    .dataframe thead th {\n",
       "        text-align: right;\n",
       "    }\n",
       "</style>\n",
       "<table border=\"1\" class=\"dataframe\">\n",
       "  <thead>\n",
       "    <tr style=\"text-align: right;\">\n",
       "      <th></th>\n",
       "      <th>unix</th>\n",
       "      <th>date</th>\n",
       "      <th>symbol</th>\n",
       "      <th>open</th>\n",
       "      <th>high</th>\n",
       "      <th>low</th>\n",
       "      <th>close</th>\n",
       "      <th>Volume BTC</th>\n",
       "      <th>Volume USD</th>\n",
       "    </tr>\n",
       "  </thead>\n",
       "  <tbody>\n",
       "    <tr>\n",
       "      <th>0</th>\n",
       "      <td>1646092800</td>\n",
       "      <td>2022-03-01 00:00:00</td>\n",
       "      <td>BTC/USD</td>\n",
       "      <td>43221.71</td>\n",
       "      <td>43626.49</td>\n",
       "      <td>43185.48</td>\n",
       "      <td>43185.48</td>\n",
       "      <td>49.006289</td>\n",
       "      <td>2.116360e+06</td>\n",
       "    </tr>\n",
       "    <tr>\n",
       "      <th>1</th>\n",
       "      <td>1646006400</td>\n",
       "      <td>2022-02-28 00:00:00</td>\n",
       "      <td>BTC/USD</td>\n",
       "      <td>37717.10</td>\n",
       "      <td>44256.08</td>\n",
       "      <td>37468.99</td>\n",
       "      <td>43178.98</td>\n",
       "      <td>3160.618070</td>\n",
       "      <td>1.364723e+08</td>\n",
       "    </tr>\n",
       "    <tr>\n",
       "      <th>2</th>\n",
       "      <td>1645920000</td>\n",
       "      <td>2022-02-27 00:00:00</td>\n",
       "      <td>BTC/USD</td>\n",
       "      <td>39146.66</td>\n",
       "      <td>39886.92</td>\n",
       "      <td>37015.74</td>\n",
       "      <td>37712.68</td>\n",
       "      <td>1701.817043</td>\n",
       "      <td>6.418008e+07</td>\n",
       "    </tr>\n",
       "    <tr>\n",
       "      <th>3</th>\n",
       "      <td>1645833600</td>\n",
       "      <td>2022-02-26 00:00:00</td>\n",
       "      <td>BTC/USD</td>\n",
       "      <td>39242.64</td>\n",
       "      <td>40330.99</td>\n",
       "      <td>38600.00</td>\n",
       "      <td>39146.66</td>\n",
       "      <td>912.724087</td>\n",
       "      <td>3.573010e+07</td>\n",
       "    </tr>\n",
       "    <tr>\n",
       "      <th>4</th>\n",
       "      <td>1645747200</td>\n",
       "      <td>2022-02-25 00:00:00</td>\n",
       "      <td>BTC/USD</td>\n",
       "      <td>38360.93</td>\n",
       "      <td>39727.97</td>\n",
       "      <td>38027.61</td>\n",
       "      <td>39231.64</td>\n",
       "      <td>2202.851827</td>\n",
       "      <td>8.642149e+07</td>\n",
       "    </tr>\n",
       "  </tbody>\n",
       "</table>\n",
       "</div>"
      ],
      "text/plain": [
       "         unix                 date   symbol      open      high       low  \\\n",
       "0  1646092800  2022-03-01 00:00:00  BTC/USD  43221.71  43626.49  43185.48   \n",
       "1  1646006400  2022-02-28 00:00:00  BTC/USD  37717.10  44256.08  37468.99   \n",
       "2  1645920000  2022-02-27 00:00:00  BTC/USD  39146.66  39886.92  37015.74   \n",
       "3  1645833600  2022-02-26 00:00:00  BTC/USD  39242.64  40330.99  38600.00   \n",
       "4  1645747200  2022-02-25 00:00:00  BTC/USD  38360.93  39727.97  38027.61   \n",
       "\n",
       "      close   Volume BTC    Volume USD  \n",
       "0  43185.48    49.006289  2.116360e+06  \n",
       "1  43178.98  3160.618070  1.364723e+08  \n",
       "2  37712.68  1701.817043  6.418008e+07  \n",
       "3  39146.66   912.724087  3.573010e+07  \n",
       "4  39231.64  2202.851827  8.642149e+07  "
      ]
     },
     "execution_count": 3,
     "metadata": {},
     "output_type": "execute_result"
    }
   ],
   "source": [
    "# read the csv file\n",
    "daily_df=pd.read_csv('BTC-Daily.csv')\n",
    "daily_df.head()"
   ]
  },
  {
   "cell_type": "code",
   "execution_count": 4,
   "metadata": {},
   "outputs": [],
   "source": [
    "# convert time strings into timestamps, and take only year, month and date values\n",
    "daily_df[\"date\"]=pd.to_datetime(daily_df[\"date\"]).dt.strftime(\"%Y-%m-%d\")"
   ]
  },
  {
   "cell_type": "code",
   "execution_count": 5,
   "metadata": {},
   "outputs": [
    {
     "data": {
      "text/plain": [
       "(2651, 9)"
      ]
     },
     "execution_count": 5,
     "metadata": {},
     "output_type": "execute_result"
    }
   ],
   "source": [
    "daily_df.shape"
   ]
  },
  {
   "cell_type": "markdown",
   "metadata": {},
   "source": [
    "The dataset has 2651 records from 2014 to 2022.\n",
    "\n",
    "As the data is needed for training and testing, every records before 2020 will be used for training and every records after 2020 will be used for testing."
   ]
  },
  {
   "cell_type": "code",
   "execution_count": 6,
   "metadata": {},
   "outputs": [],
   "source": [
    "# splitting the data\n",
    "training = daily_df[daily_df[\"date\"]<\"2020-01-01\"].iloc[::-1]\n",
    "testing = daily_df[daily_df[\"date\"]>=\"2020-01-01\"].iloc[::-1]"
   ]
  },
  {
   "cell_type": "code",
   "execution_count": 7,
   "metadata": {},
   "outputs": [],
   "source": [
    "# convert the data into csv files\n",
    "training.to_csv('training.csv')\n",
    "testing.to_csv('testing.csv')"
   ]
  },
  {
   "cell_type": "markdown",
   "metadata": {},
   "source": [
    "After splitting, the training dataset has 1860 records and the testing data has 791 records."
   ]
  },
  {
   "cell_type": "code",
   "execution_count": 8,
   "metadata": {},
   "outputs": [
    {
     "name": "stdout",
     "output_type": "stream",
     "text": [
      "(1860, 9)\n",
      "(791, 9)\n"
     ]
    }
   ],
   "source": [
    "print(training.shape)\n",
    "print(testing.shape)"
   ]
  },
  {
   "cell_type": "markdown",
   "metadata": {},
   "source": [
    "# 2. Hill-climbing algorithm"
   ]
  },
  {
   "cell_type": "markdown",
   "metadata": {},
   "source": [
    "## a. Hill-climbing algorithm "
   ]
  },
  {
   "cell_type": "code",
   "execution_count": 173,
   "metadata": {},
   "outputs": [],
   "source": [
    "# The bounds will be \n",
    "# sma: [(5,50),(51,100)]\n",
    "# smaema: [(5,50),(51,100),(0,1)]\n",
    "# weights: [(0,10),(0,10),(0,10),(5,50),(5,50),(5,50),(0,1), (0,10),(0,10),(0,10),(51,100),(51,100),(51,100),(0,1)]\n",
    "\n",
    "def hill_climbing(bot_type, bounds, max_iter=1000):\n",
    "    rng = np.random.default_rng()\n",
    "    high_window = None\n",
    "    low_window = None\n",
    "    alpha=0\n",
    "    new_high_frequency_window = high_window \n",
    "    new_low_frequency_window = low_window\n",
    "    new_alpha=0\n",
    "    # processing the bounds inputs\n",
    "    if bot_type.lower() == 'sma':\n",
    "        high_window = int(rng.integers(bounds[0][0],bounds[0][1]))\n",
    "        low_window = int(rng.integers(bounds[1][0],bounds[1][1]))\n",
    "    elif bot_type.lower() == 'smaema':\n",
    "        high_window = int(rng.integers(bounds[0][0],bounds[0][1]))\n",
    "        low_window = int(rng.integers(bounds[1][0],bounds[1][1]))\n",
    "        alpha = rng.uniform(bounds[2][0], bounds[-1][1])\n",
    "    elif bot_type.lower() == 'complex':\n",
    "        # generate the values for high\n",
    "        weight_sma_high= int(rng.integers(bounds[0][0],bounds[0][1]))\n",
    "        weight_lma_high= int(rng.integers(bounds[1][0],bounds[0][1]))\n",
    "        weight_ema_high= int(rng.integers(bounds[2][0],bounds[0][1]))\n",
    "        window_sma_high= int(rng.integers(bounds[3][0],bounds[0][1]))\n",
    "        window_lma_high= int(rng.integers(bounds[4][0],bounds[0][1]))\n",
    "        window_ema_high= int(rng.integers(bounds[5][0],bounds[0][1]))\n",
    "        alpha_high = rng.uniform(bounds[6][0], bounds[6][1])\n",
    "        high_window = [weight_sma_high,weight_lma_high, weight_ema_high, window_sma_high, window_lma_high, window_ema_high, alpha_high]\n",
    "        # generate the values for low\n",
    "        weight_sma_low= int(rng.integers(bounds[7][0],bounds[7][1]))\n",
    "        weight_lma_low= int(rng.integers(bounds[8][0],bounds[8][1]))\n",
    "        weight_ema_low= int(rng.integers(bounds[9][0],bounds[9][1]))\n",
    "        window_sma_low= int(rng.integers(bounds[10][0],bounds[10][1]))\n",
    "        window_lma_low= int(rng.integers(bounds[11][0],bounds[11][1]))\n",
    "        window_ema_low= int(rng.integers(bounds[12][0],bounds[12][1]))\n",
    "        alpha_low = rng.uniform(bounds[13][0], bounds[13][1])\n",
    "        low_window = [weight_sma_low, weight_lma_low, weight_ema_low, window_sma_low, window_lma_low, window_ema_low, alpha_low]\n",
    "\n",
    "    # the best cash\n",
    "    cash1=0\n",
    "    for i in range(max_iter):\n",
    "        # find the correct parameter tweak:\n",
    "        if bot_type.lower() == 'sma':\n",
    "            new_high_frequency_window, new_low_frequency_window = window_tweak(high_window, low_window, bounds[0], bounds[1])\n",
    "        elif bot_type.lower() == 'smaema':\n",
    "            new_high_frequency_window, new_low_frequency_window = window_tweak(high_window, low_window, bounds[0], bounds[1])\n",
    "            new_alpha = alpha_tweak(alpha, bounds[2])\n",
    "        elif bot_type.lower() == 'complex':\n",
    "            # generate the values \n",
    "            new_high_frequency_window, new_low_frequency_window = complex_tweak(high_window, low_window, bounds)\n",
    "            \n",
    "        # run the total cash return after trading\n",
    "        cash1=bot_fitness_func(bot_type, high_window, low_window, alpha)\n",
    "        cash2=bot_fitness_func(bot_type, new_high_frequency_window, new_low_frequency_window,alpha)\n",
    "        # compare the cash earned after tweaking the parameters\n",
    "        if cash2 > cash1:\n",
    "            high_window = new_high_frequency_window\n",
    "            low_window = new_low_frequency_window\n",
    "            alpha=new_alpha\n",
    "            cash1 = cash2\n",
    "    if bot_type.lower() == 'sma' or bot_type.lower() == 'complex':\n",
    "        return [high_window, low_window], float(cash1)\n",
    "    elif bot_type.lower() == 'smaema':\n",
    "        return [high_window, low_window, alpha], float(cash1)\n",
    "\n",
    "def window_tweak(hfw, lfw, window_range1, window_range2):\n",
    "    rng = np.random.default_rng()\n",
    "    for _ in range(100):\n",
    "        # new high frequency window\n",
    "        a=int(rng.integers(-5,6))\n",
    "        new_hfw=hfw+a\n",
    "        # new low frequency window\n",
    "        b=int(rng.integers(-5,6))\n",
    "        new_lfw=lfw+b\n",
    "        # we check to make sure that new_hfw in range(11,40) and new_lfw(2,10)\n",
    "        new_hfw = max(window_range1[0], min(window_range1[1], new_hfw)) # can change the bounds to 5-50 \n",
    "        new_lfw = max(window_range2[0], min(window_range2[1], new_lfw)) # can change the bounds to 51-100\n",
    "        if new_hfw < new_lfw:\n",
    "            return new_hfw, new_lfw\n",
    "    return hfw, lfw\n",
    "\n",
    "def alpha_tweak(alpha, alpha_range):\n",
    "    rng = np.random.default_rng()\n",
    "    for _ in range(100):\n",
    "        diff = rng.uniform(-0.15, 0.15)\n",
    "        new_alpha = alpha + diff\n",
    "        if alpha_range[0]<= new_alpha <= alpha_range[1]:\n",
    "            return new_alpha\n",
    "    return alpha # if after 100 loops and cannot find the optimal value, then we return the original alpha\n",
    "\n",
    "def weights_tweak(weight_lst, weight_range):\n",
    "    rng = np.random.default_rng()\n",
    "    weights=[]\n",
    "    for i in range(len(weight_range)):\n",
    "        weight = weight_lst[i]\n",
    "        diff = rng.uniform(-1.5, 1.5)\n",
    "        weight += diff\n",
    "        new_weight = max(weight_range[i][0], min(weight_range[i][1], weight))\n",
    "        weights.append(new_weight)\n",
    "    return weights\n",
    "\n",
    "\n",
    "def complex_tweak(hfw, lfw, bounds):\n",
    "    # in this code, hfw and lfw input are array-type in format of [w1_h, w2_h, w3_h, d1_h, d2_h, d3_h, sf_h, w1_l, w2_l, w3_l, d1_l, d2_l, d3_l, sf_l]\n",
    "    # weight tweak\n",
    "\n",
    "    new_hfw_w1, new_hfw_w2,new_hfw_w3 = weights_tweak(hfw[0:3], bounds[0:3])\n",
    "    new_lfw_w1, new_lfw_w2,new_lfw_w3 = weights_tweak(lfw[0:3], bounds[7:10])\n",
    "\n",
    "    # window tweak\n",
    "    new_hfw_d1, new_lfw_d1 = window_tweak(hfw[3], lfw[3], bounds[3], bounds[10])\n",
    "    new_hfw_d2, new_lfw_d2 = window_tweak(hfw[4], lfw[4], bounds[4], bounds[11])\n",
    "    new_hfw_d3, new_lfw_d3 = window_tweak(hfw[5], lfw[5], bounds[5], bounds[12])\n",
    "\n",
    "    # alpha tweak\n",
    "    new_hfw_alpha = alpha_tweak(hfw[-1], bounds[6])\n",
    "    new_lfw_alpha = alpha_tweak(lfw[-1], bounds[13])\n",
    "\n",
    "    return [new_hfw_w1, new_hfw_w2, new_hfw_w3, new_hfw_d1, new_hfw_d2, new_hfw_d3,new_hfw_alpha], [new_lfw_w1, new_lfw_w2, new_lfw_w3, new_lfw_d1, new_lfw_d2, new_lfw_d3, new_lfw_alpha]\n"
   ]
  },
  {
   "cell_type": "markdown",
   "metadata": {},
   "source": [
    "## b. Fitness function on training and testing data"
   ]
  },
  {
   "cell_type": "code",
   "execution_count": 172,
   "metadata": {},
   "outputs": [],
   "source": [
    "def bot_training(bot_type, high_window, low_window, alpha): # change bot_signals to high_frequency_window_size, low_frequency_window_size\n",
    "    # intialise bot, use training dataset for optimisation algorithms fitness functions\n",
    "    bot_signals=[]\n",
    "    close_price = pd.read_csv('training.csv')['close']\n",
    "    \n",
    "    if bot_type.lower() == 'sma':\n",
    "        bot_signals = bot.get_signals_sma2(close_price, high_window, low_window) #need to think about how to call 2 other bot algorithms\n",
    "    elif bot_type.lower() == 'smaema':\n",
    "        bot_signals = bot.get_signals_smaema(close_price, high_window, low_window, alpha)\n",
    "    elif bot_type.lower() == 'complex': #as alpha values were stored in the list of high_window and low_window\n",
    "        bot_signals = bot.get_signals_complex(close_price, high_window, low_window)\n",
    "\n",
    "    # initial values\n",
    "    cash = 1000\n",
    "    fee=0.03\n",
    "    bitcoin = 0.0\n",
    "\n",
    "    #loop through the time length\n",
    "    for i in range(min(len(bot_signals),len(close_price)-1)):\n",
    "        close=close_price.iloc[i]\n",
    "        # buy, ensure we have cash to buy\n",
    "        if bot_signals[i] == \"buy\" and cash>0:\n",
    "            bitcoin =  (cash*(1-fee))/close\n",
    "            cash = 0\n",
    "        # sell, ensure we have bitcoin to sell\n",
    "        elif bot_signals[i] == \"sell\" and bitcoin>0:\n",
    "            cash = bitcoin * close * (1-fee)\n",
    "            bitcoin =0\n",
    "    \n",
    "    # final evaluation to change back to cash\n",
    "    last_close=close_price.iloc[-1]\n",
    "    if bitcoin>0:\n",
    "        cash = bitcoin * last_close * (1-fee)\n",
    "        bitcoin =0\n",
    "        return cash\n",
    "    elif cash >0:\n",
    "        return cash"
   ]
  },
  {
   "cell_type": "code",
   "execution_count": 189,
   "metadata": {},
   "outputs": [],
   "source": [
    "def bot_testing(bot_type, optimal_values):\n",
    "    # intialise bot, use training dataset for optimisation algorithms fitness functions\n",
    "    bot_signals=[]\n",
    "    close_price = pd.read_csv('testing.csv')['close']\n",
    "    time = pd.read_csv('testing.csv')['date']\n",
    "    result=[]\n",
    "\n",
    "    # intialise bot, use training dataset for optimisation algorithms fitness functions\n",
    "    if bot_type.lower() == 'sma':\n",
    "        bot_signals = bot.get_signals_sma2(close_price, optimal_values[0], optimal_values[1])\n",
    "    elif bot_type.lower() == 'smaema':\n",
    "        bot_signals = bot.get_signals_smaema(close_price, optimal_values[0], optimal_values[1], optimal_values[2])\n",
    "    elif bot_type.lower() == 'complex': #as alpha values were stored in the list of high_window and low_window\n",
    "        bot_signals = bot.get_signals_complex(close_price, optimal_values[0], optimal_values[1])\n",
    "    \n",
    "    # initial values\n",
    "    cash = 1000\n",
    "    fee=0.03\n",
    "    bitcoin = 0.0\n",
    "    \n",
    "    #loop through the time length\n",
    "    for i in range(min(len(bot_signals),len(close_price)-1)):\n",
    "        close=close_price[i]\n",
    "        # buy\n",
    "        if bot_signals[i] == \"buy\" and cash>0:\n",
    "            bitcoin =  (cash*(1-fee))/close\n",
    "            cash = 0\n",
    "            result.append([time[i],cash, bitcoin])\n",
    "        # sell\n",
    "        elif bot_signals[i] == \"sell\" and bitcoin>0:\n",
    "            cash = bitcoin * close * (1-fee)\n",
    "            bitcoin =0\n",
    "            result.append([time[i],cash, bitcoin])\n",
    "    \n",
    "    # final evaluation to change back to cash\n",
    "    last_close=close_price.iloc[-1]\n",
    "    if bitcoin>0:\n",
    "        cash = bitcoin * last_close * (1-fee)\n",
    "        bitcoin =0\n",
    "        result.append([time.iloc[-1],cash, bitcoin])\n",
    "        return result\n",
    "    elif cash>0:\n",
    "        result.append([time.iloc[-1],cash, bitcoin])\n",
    "        return result"
   ]
  },
  {
   "cell_type": "code",
   "execution_count": 164,
   "metadata": {},
   "outputs": [],
   "source": [
    "def bot_evaluation(bot_type, optimal_values):\n",
    "    # This function will returns the result nicely\n",
    "    result_lst=bot_testing(bot_type, optimal_values)\n",
    "    result_df=pd.DataFrame(result_lst, columns=[\"Time\", \"Cash\", \"Bitcoin\"])\n",
    "    print(result_df.to_string(index=False, justify=\"center\", float_format='{:,.2f}'.format))\n",
    "    #return result_df"
   ]
  },
  {
   "cell_type": "markdown",
   "metadata": {},
   "source": [
    "# 3. Running the whole bot\n",
    "## a. Running group A (H: 1-10, L: 11-40)\n",
    "### PART A: Training the bot to get the optimal result"
   ]
  },
  {
   "cell_type": "code",
   "execution_count": 177,
   "metadata": {},
   "outputs": [
    {
     "data": {
      "text/plain": [
       "([9, 25], 5965.086841833178)"
      ]
     },
     "execution_count": 177,
     "metadata": {},
     "output_type": "execute_result"
    }
   ],
   "source": [
    "#sma\n",
    "sma_optimals, cash_result = hill_climbing('sma',[(1,10),(11,40)])\n",
    "sma_optimals, cash_result"
   ]
  },
  {
   "cell_type": "code",
   "execution_count": 178,
   "metadata": {},
   "outputs": [
    {
     "data": {
      "text/plain": [
       "([9, 40, 0.9674799395055566], 1109.7384627175877)"
      ]
     },
     "execution_count": 178,
     "metadata": {},
     "output_type": "execute_result"
    }
   ],
   "source": [
    "#smaema\n",
    "samema_optimals, cash_result = hill_climbing('smaema', [(1,10),(11,40),(0,1)])\n",
    "samema_optimals, cash_result"
   ]
  },
  {
   "cell_type": "code",
   "execution_count": 179,
   "metadata": {},
   "outputs": [
    {
     "data": {
      "text/plain": [
       "([[1.1659219982350497,\n",
       "   4.296358694985838,\n",
       "   2.8518464703241895,\n",
       "   10,\n",
       "   10,\n",
       "   10,\n",
       "   0.8177740138150238],\n",
       "  [10, 4.743888529169307, 8.896757425371685, 34, 29, 20, 0.08480724374063864]],\n",
       " 36215.514177773526)"
      ]
     },
     "execution_count": 179,
     "metadata": {},
     "output_type": "execute_result"
    }
   ],
   "source": [
    "#complex\n",
    "complex_optimals, cash_result = hill_climbing('complex',[(0,10),(0,10),(0,10),(1,10),(1,10),(1,10),(0,1), (0,10),(0,10),(0,10),(11,40),(11,40),(11,40),(0,1)])\n",
    "complex_optimals, cash_result"
   ]
  },
  {
   "cell_type": "markdown",
   "metadata": {},
   "source": [
    "### PART B: Testing the bot with optimal results\n"
   ]
  },
  {
   "cell_type": "code",
   "execution_count": 180,
   "metadata": {},
   "outputs": [
    {
     "name": "stdout",
     "output_type": "stream",
     "text": [
      "   Time      Cash    Bitcoin\n",
      "2020-01-01     0.00   0.14  \n",
      "2020-02-24 1,265.15   0.00  \n",
      "2020-03-31     0.00   0.19  \n",
      "2020-05-26 1,638.97   0.00  \n",
      "2020-06-02     0.00   0.17  \n",
      "2020-06-18 1,517.67   0.00  \n",
      "2020-07-13     0.00   0.16  \n",
      "2020-08-27 1,752.28   0.00  \n",
      "2020-09-22     0.00   0.16  \n",
      "2020-10-06 1,659.99   0.00  \n",
      "2020-10-10     0.00   0.14  \n",
      "2021-01-23 4,438.80   0.00  \n",
      "2021-02-05     0.00   0.11  \n",
      "2021-03-02 5,287.76   0.00  \n",
      "2021-03-09     0.00   0.09  \n",
      "2021-03-28 5,053.32   0.00  \n",
      "2021-04-03     0.00   0.09  \n",
      "2021-04-22 4,306.36   0.00  \n",
      "2021-05-07     0.00   0.07  \n",
      "2021-05-15 3,298.22   0.00  \n",
      "2021-06-15     0.00   0.08  \n",
      "2021-06-23 2,599.68   0.00  \n",
      "2021-07-27     0.00   0.06  \n",
      "2021-09-12 2,852.50   0.00  \n",
      "2021-10-05     0.00   0.05  \n",
      "2021-11-19 3,029.29   0.00  \n",
      "2021-12-27     0.00   0.06  \n",
      "2022-01-03 2,609.83   0.00  \n",
      "2022-02-07     0.00   0.06  \n",
      "2022-02-22 2,142.18   0.00  \n",
      "2022-03-01 2,142.18   0.00  \n"
     ]
    }
   ],
   "source": [
    "#sma - nice printout\n",
    "bot_evaluation('sma', sma_optimals)"
   ]
  },
  {
   "cell_type": "code",
   "execution_count": 190,
   "metadata": {},
   "outputs": [
    {
     "name": "stdout",
     "output_type": "stream",
     "text": [
      "   Time      Cash    Bitcoin\n",
      "2020-01-01     0.00   0.14  \n",
      "2020-03-14   677.54   0.00  \n",
      "2020-04-29     0.00   0.07  \n",
      "2020-09-06   744.10   0.00  \n",
      "2020-09-07     0.00   0.07  \n",
      "2020-09-08   683.04   0.00  \n",
      "2020-09-11     0.00   0.06  \n",
      "2020-09-13   639.07   0.00  \n",
      "2020-09-14     0.00   0.06  \n",
      "2020-09-23   576.42   0.00  \n",
      "2020-09-24     0.00   0.05  \n",
      "2020-10-02   534.00   0.00  \n",
      "2020-10-05     0.00   0.05  \n",
      "2020-10-06   493.66   0.00  \n",
      "2020-10-08     0.00   0.04  \n",
      "2021-04-24 2,130.80   0.00  \n",
      "2021-04-26     0.00   0.04  \n",
      "2021-05-12 1,831.10   0.00  \n",
      "2021-07-29     0.00   0.04  \n",
      "2021-09-28 1,766.40   0.00  \n",
      "2021-09-30     0.00   0.04  \n",
      "2021-12-03 2,037.73   0.00  \n",
      "2022-03-01 2,037.73   0.00  \n"
     ]
    }
   ],
   "source": [
    "#smaema\n",
    "bot_evaluation('smaema', samema_optimals)"
   ]
  },
  {
   "cell_type": "code",
   "execution_count": 182,
   "metadata": {},
   "outputs": [
    {
     "name": "stdout",
     "output_type": "stream",
     "text": [
      "   Time      Cash    Bitcoin\n",
      "2020-03-24     0.00   0.14  \n",
      "2021-05-21 5,189.91   0.00  \n",
      "2021-06-01     0.00   0.14  \n",
      "2022-03-01 5,747.18   0.00  \n"
     ]
    }
   ],
   "source": [
    "#complex\n",
    "bot_evaluation('complex',complex_optimals)"
   ]
  },
  {
   "cell_type": "markdown",
   "metadata": {},
   "source": [
    "## b. Running group B (H: 5-50, L: 51-100)\n",
    "### PART A: Training the bot to get the optimal result"
   ]
  },
  {
   "cell_type": "code",
   "execution_count": 183,
   "metadata": {},
   "outputs": [
    {
     "data": {
      "text/plain": [
       "([17, 100], 18743.5259647998)"
      ]
     },
     "execution_count": 183,
     "metadata": {},
     "output_type": "execute_result"
    }
   ],
   "source": [
    "#sma\n",
    "sma_optimals, cash_result = hill_climbing('sma',[(5,50),(51,100)])\n",
    "sma_optimals, cash_result"
   ]
  },
  {
   "cell_type": "code",
   "execution_count": 184,
   "metadata": {},
   "outputs": [
    {
     "data": {
      "text/plain": [
       "([45, 92, 0.5971497672955902], 8294.450860676487)"
      ]
     },
     "execution_count": 184,
     "metadata": {},
     "output_type": "execute_result"
    }
   ],
   "source": [
    "#smaema\n",
    "samema_optimals, cash_result = hill_climbing('smaema', [(5,50),(51,100),(0,1)])\n",
    "samema_optimals, cash_result"
   ]
  },
  {
   "cell_type": "code",
   "execution_count": 185,
   "metadata": {},
   "outputs": [
    {
     "data": {
      "text/plain": [
       "([[0, 8.334288659563903, 1.6274332041189186, 16, 5, 11, 0.47868025623396393],\n",
       "  [6.260524068932414, 0, 2.194494465269502, 51, 97, 80, 0.2384507520431139]],\n",
       " 28280.00953232217)"
      ]
     },
     "execution_count": 185,
     "metadata": {},
     "output_type": "execute_result"
    }
   ],
   "source": [
    "#complex\n",
    "complex_optimals, cash_result = hill_climbing('complex',[(0,10),(0,10),(0,10),(5,50),(5,50),(5,50),(0,1), (0,10),(0,10),(0,10),(51,100),(51,100),(51,100),(0,1)])\n",
    "complex_optimals, cash_result"
   ]
  },
  {
   "cell_type": "markdown",
   "metadata": {},
   "source": [
    "### PART B: Testing the bot with optimal results"
   ]
  },
  {
   "cell_type": "code",
   "execution_count": 186,
   "metadata": {},
   "outputs": [
    {
     "name": "stdout",
     "output_type": "stream",
     "text": [
      "   Time      Cash    Bitcoin\n",
      "2020-01-01     0.00   0.14  \n",
      "2020-03-27   835.70   0.00  \n",
      "2020-05-06     0.00   0.09  \n",
      "2021-05-17 3,744.44   0.00  \n",
      "2021-08-08     0.00   0.08  \n",
      "2021-12-09 3,823.16   0.00  \n",
      "2022-03-01 3,823.16   0.00  \n"
     ]
    }
   ],
   "source": [
    "#sma - nice printout\n",
    "bot_evaluation('sma', sma_optimals)"
   ]
  },
  {
   "cell_type": "code",
   "execution_count": 191,
   "metadata": {},
   "outputs": [
    {
     "name": "stdout",
     "output_type": "stream",
     "text": [
      "   Time      Cash    Bitcoin\n",
      "2020-01-01     0.00   0.14  \n",
      "2020-03-14   677.54   0.00  \n",
      "2020-04-29     0.00   0.07  \n",
      "2020-09-06   744.10   0.00  \n",
      "2020-09-07     0.00   0.07  \n",
      "2020-09-08   683.04   0.00  \n",
      "2020-09-11     0.00   0.06  \n",
      "2020-09-13   639.07   0.00  \n",
      "2020-09-14     0.00   0.06  \n",
      "2020-09-23   576.42   0.00  \n",
      "2020-09-24     0.00   0.05  \n",
      "2020-10-02   534.00   0.00  \n",
      "2020-10-05     0.00   0.05  \n",
      "2020-10-06   493.66   0.00  \n",
      "2020-10-08     0.00   0.04  \n",
      "2021-04-24 2,130.80   0.00  \n",
      "2021-04-26     0.00   0.04  \n",
      "2021-05-12 1,831.10   0.00  \n",
      "2021-07-29     0.00   0.04  \n",
      "2021-09-28 1,766.40   0.00  \n",
      "2021-09-30     0.00   0.04  \n",
      "2021-12-03 2,037.73   0.00  \n",
      "2022-03-01 2,037.73   0.00  \n"
     ]
    }
   ],
   "source": [
    "#smaema\n",
    "bot_evaluation('smaema', samema_optimals)"
   ]
  },
  {
   "cell_type": "code",
   "execution_count": 188,
   "metadata": {},
   "outputs": [
    {
     "name": "stdout",
     "output_type": "stream",
     "text": [
      "   Time      Cash    Bitcoin\n",
      "2020-03-23     0.00   0.15  \n",
      "2021-05-21 5,409.81   0.00  \n",
      "2021-05-27     0.00   0.14  \n",
      "2021-05-29 4,578.30   0.00  \n",
      "2021-06-02     0.00   0.12  \n",
      "2022-03-01 4,949.03   0.00  \n"
     ]
    }
   ],
   "source": [
    "#complex\n",
    "bot_evaluation('complex',complex_optimals)"
   ]
  }
 ],
 "metadata": {
  "kernelspec": {
   "display_name": ".venv",
   "language": "python",
   "name": "python3"
  },
  "language_info": {
   "codemirror_mode": {
    "name": "ipython",
    "version": 3
   },
   "file_extension": ".py",
   "mimetype": "text/x-python",
   "name": "python",
   "nbconvert_exporter": "python",
   "pygments_lexer": "ipython3",
   "version": "3.9.6"
  }
 },
 "nbformat": 4,
 "nbformat_minor": 2
}
