{
 "cells": [
  {
   "cell_type": "code",
   "execution_count": 61,
   "metadata": {},
   "outputs": [],
   "source": [
    "# import important library\n",
    "import pandas as pd\n",
    "import numpy as np\n",
    "import bot"
   ]
  },
  {
   "cell_type": "code",
   "execution_count": 2,
   "metadata": {},
   "outputs": [
    {
     "data": {
      "text/plain": [
       "<module 'bot' from '/Users/henrytran/Documents/GitHub/aias_trading25/bot.py'>"
      ]
     },
     "execution_count": 2,
     "metadata": {},
     "output_type": "execute_result"
    }
   ],
   "source": [
    "import importlib\n",
    "importlib.reload(bot)"
   ]
  },
  {
   "cell_type": "markdown",
   "metadata": {},
   "source": [
    "# 1. Data Processing"
   ]
  },
  {
   "cell_type": "code",
   "execution_count": 3,
   "metadata": {},
   "outputs": [
    {
     "data": {
      "text/html": [
       "<div>\n",
       "<style scoped>\n",
       "    .dataframe tbody tr th:only-of-type {\n",
       "        vertical-align: middle;\n",
       "    }\n",
       "\n",
       "    .dataframe tbody tr th {\n",
       "        vertical-align: top;\n",
       "    }\n",
       "\n",
       "    .dataframe thead th {\n",
       "        text-align: right;\n",
       "    }\n",
       "</style>\n",
       "<table border=\"1\" class=\"dataframe\">\n",
       "  <thead>\n",
       "    <tr style=\"text-align: right;\">\n",
       "      <th></th>\n",
       "      <th>unix</th>\n",
       "      <th>date</th>\n",
       "      <th>symbol</th>\n",
       "      <th>open</th>\n",
       "      <th>high</th>\n",
       "      <th>low</th>\n",
       "      <th>close</th>\n",
       "      <th>Volume BTC</th>\n",
       "      <th>Volume USD</th>\n",
       "    </tr>\n",
       "  </thead>\n",
       "  <tbody>\n",
       "    <tr>\n",
       "      <th>0</th>\n",
       "      <td>1646092800</td>\n",
       "      <td>2022-03-01 00:00:00</td>\n",
       "      <td>BTC/USD</td>\n",
       "      <td>43221.71</td>\n",
       "      <td>43626.49</td>\n",
       "      <td>43185.48</td>\n",
       "      <td>43185.48</td>\n",
       "      <td>49.006289</td>\n",
       "      <td>2.116360e+06</td>\n",
       "    </tr>\n",
       "    <tr>\n",
       "      <th>1</th>\n",
       "      <td>1646006400</td>\n",
       "      <td>2022-02-28 00:00:00</td>\n",
       "      <td>BTC/USD</td>\n",
       "      <td>37717.10</td>\n",
       "      <td>44256.08</td>\n",
       "      <td>37468.99</td>\n",
       "      <td>43178.98</td>\n",
       "      <td>3160.618070</td>\n",
       "      <td>1.364723e+08</td>\n",
       "    </tr>\n",
       "    <tr>\n",
       "      <th>2</th>\n",
       "      <td>1645920000</td>\n",
       "      <td>2022-02-27 00:00:00</td>\n",
       "      <td>BTC/USD</td>\n",
       "      <td>39146.66</td>\n",
       "      <td>39886.92</td>\n",
       "      <td>37015.74</td>\n",
       "      <td>37712.68</td>\n",
       "      <td>1701.817043</td>\n",
       "      <td>6.418008e+07</td>\n",
       "    </tr>\n",
       "    <tr>\n",
       "      <th>3</th>\n",
       "      <td>1645833600</td>\n",
       "      <td>2022-02-26 00:00:00</td>\n",
       "      <td>BTC/USD</td>\n",
       "      <td>39242.64</td>\n",
       "      <td>40330.99</td>\n",
       "      <td>38600.00</td>\n",
       "      <td>39146.66</td>\n",
       "      <td>912.724087</td>\n",
       "      <td>3.573010e+07</td>\n",
       "    </tr>\n",
       "    <tr>\n",
       "      <th>4</th>\n",
       "      <td>1645747200</td>\n",
       "      <td>2022-02-25 00:00:00</td>\n",
       "      <td>BTC/USD</td>\n",
       "      <td>38360.93</td>\n",
       "      <td>39727.97</td>\n",
       "      <td>38027.61</td>\n",
       "      <td>39231.64</td>\n",
       "      <td>2202.851827</td>\n",
       "      <td>8.642149e+07</td>\n",
       "    </tr>\n",
       "  </tbody>\n",
       "</table>\n",
       "</div>"
      ],
      "text/plain": [
       "         unix                 date   symbol      open      high       low  \\\n",
       "0  1646092800  2022-03-01 00:00:00  BTC/USD  43221.71  43626.49  43185.48   \n",
       "1  1646006400  2022-02-28 00:00:00  BTC/USD  37717.10  44256.08  37468.99   \n",
       "2  1645920000  2022-02-27 00:00:00  BTC/USD  39146.66  39886.92  37015.74   \n",
       "3  1645833600  2022-02-26 00:00:00  BTC/USD  39242.64  40330.99  38600.00   \n",
       "4  1645747200  2022-02-25 00:00:00  BTC/USD  38360.93  39727.97  38027.61   \n",
       "\n",
       "      close   Volume BTC    Volume USD  \n",
       "0  43185.48    49.006289  2.116360e+06  \n",
       "1  43178.98  3160.618070  1.364723e+08  \n",
       "2  37712.68  1701.817043  6.418008e+07  \n",
       "3  39146.66   912.724087  3.573010e+07  \n",
       "4  39231.64  2202.851827  8.642149e+07  "
      ]
     },
     "execution_count": 3,
     "metadata": {},
     "output_type": "execute_result"
    }
   ],
   "source": [
    "# read the csv file\n",
    "daily_df=pd.read_csv('BTC-Daily.csv')\n",
    "daily_df.head()"
   ]
  },
  {
   "cell_type": "code",
   "execution_count": 4,
   "metadata": {},
   "outputs": [],
   "source": [
    "# convert time strings into timestamps, and take only year, month and date values\n",
    "daily_df[\"date\"]=pd.to_datetime(daily_df[\"date\"]).dt.strftime(\"%Y-%m-%d\")"
   ]
  },
  {
   "cell_type": "code",
   "execution_count": 5,
   "metadata": {},
   "outputs": [
    {
     "data": {
      "text/plain": [
       "(2651, 9)"
      ]
     },
     "execution_count": 5,
     "metadata": {},
     "output_type": "execute_result"
    }
   ],
   "source": [
    "daily_df.shape"
   ]
  },
  {
   "cell_type": "markdown",
   "metadata": {},
   "source": [
    "The dataset has 2651 records from 2014 to 2022.\n",
    "\n",
    "As the data is needed for training and testing, every records before 2020 will be used for training and every records after 2020 will be used for testing."
   ]
  },
  {
   "cell_type": "code",
   "execution_count": 6,
   "metadata": {},
   "outputs": [],
   "source": [
    "# splitting the data\n",
    "training = daily_df[daily_df[\"date\"]<\"2020-01-01\"].iloc[::-1]\n",
    "testing = daily_df[daily_df[\"date\"]>=\"2020-01-01\"].iloc[::-1]"
   ]
  },
  {
   "cell_type": "code",
   "execution_count": 7,
   "metadata": {},
   "outputs": [],
   "source": [
    "# convert the data into csv files\n",
    "training.to_csv('training.csv')\n",
    "testing.to_csv('testing.csv')"
   ]
  },
  {
   "cell_type": "markdown",
   "metadata": {},
   "source": [
    "After splitting, the training dataset has 1860 records and the testing data has 791 records."
   ]
  },
  {
   "cell_type": "code",
   "execution_count": 8,
   "metadata": {},
   "outputs": [
    {
     "name": "stdout",
     "output_type": "stream",
     "text": [
      "(1860, 9)\n",
      "(791, 9)\n"
     ]
    }
   ],
   "source": [
    "print(training.shape)\n",
    "print(testing.shape)"
   ]
  },
  {
   "cell_type": "markdown",
   "metadata": {},
   "source": [
    "# 2. Hill-climbing algorithm"
   ]
  },
  {
   "cell_type": "markdown",
   "metadata": {},
   "source": [
    "## a. Hill-climbing algorithm "
   ]
  },
  {
   "cell_type": "code",
   "execution_count": 103,
   "metadata": {},
   "outputs": [],
   "source": [
    "# The bounds will be \n",
    "# sma: [(5,50),(51,100)]\n",
    "# smaema: [(5,50),(51,100),(0,1)]\n",
    "# weights: [(0,10),(0,10),(0,10),(5,50),(5,50),(5,50),(0,1), (0,10),(0,10),(0,10),(51,100),(51,100),(51,100),(0,1)]\n",
    "\n",
    "def hill_climbing(bot_type, bounds, max_iter=1000):\n",
    "    rng = np.random.default_rng()\n",
    "    high_window = None\n",
    "    low_window = None\n",
    "    alpha=0\n",
    "    new_high_frequency_window = high_window \n",
    "    new_low_frequency_window = low_window\n",
    "    new_alpha=0\n",
    "    # processing the bounds inputs\n",
    "    if bot_type.lower() == 'sma':\n",
    "        high_window = int(rng.integers(bounds[0][0],bounds[0][1]))\n",
    "        low_window = int(rng.integers(bounds[1][0],bounds[1][1]))\n",
    "    elif bot_type.lower() == 'smaema':\n",
    "        high_window = int(rng.integers(bounds[0][0],bounds[0][1]))\n",
    "        low_window = int(rng.integers(bounds[1][0],bounds[1][1]))\n",
    "        alpha = rng.uniform(bounds[2][0], bounds[-1][1])\n",
    "    elif bot_type.lower() == 'complex':\n",
    "        # generate the values for high\n",
    "        weight_sma_high= int(rng.integers(bounds[0][0],bounds[0][1]))\n",
    "        weight_lma_high= int(rng.integers(bounds[1][0],bounds[0][1]))\n",
    "        weight_ema_high= int(rng.integers(bounds[2][0],bounds[0][1]))\n",
    "        window_sma_high= int(rng.integers(bounds[3][0],bounds[0][1]))\n",
    "        window_lma_high= int(rng.integers(bounds[4][0],bounds[0][1]))\n",
    "        window_ema_high= int(rng.integers(bounds[5][0],bounds[0][1]))\n",
    "        alpha_high = rng.uniform(bounds[6][0], bounds[6][1])\n",
    "        high_window = [weight_sma_high,weight_lma_high, weight_ema_high, window_sma_high, window_lma_high, window_ema_high, alpha_high]\n",
    "        # generate the values for low\n",
    "        weight_sma_low= int(rng.integers(bounds[7][0],bounds[7][1]))\n",
    "        weight_lma_low= int(rng.integers(bounds[8][0],bounds[8][1]))\n",
    "        weight_ema_low= int(rng.integers(bounds[9][0],bounds[9][1]))\n",
    "        window_sma_low= int(rng.integers(bounds[10][0],bounds[10][1]))\n",
    "        window_lma_low= int(rng.integers(bounds[11][0],bounds[11][1]))\n",
    "        window_ema_low= int(rng.integers(bounds[12][0],bounds[12][1]))\n",
    "        alpha_low = rng.uniform(bounds[13][0], bounds[13][1])\n",
    "        low_window = [weight_sma_low, weight_lma_low, weight_ema_low, window_sma_low, window_lma_low, window_ema_low, alpha_low]\n",
    "\n",
    "    # the best cash\n",
    "    cash1=0\n",
    "    for i in range(max_iter):\n",
    "        # find the correct parameter tweak:\n",
    "        if bot_type.lower() == 'sma':\n",
    "            new_high_frequency_window, new_low_frequency_window = parameter_tweak('sma', high_window, low_window)\n",
    "        elif bot_type.lower() == 'smaema':\n",
    "            new_high_frequency_window, new_low_frequency_window, new_alpha = parameter_tweak('smaema', high_window, low_window, alpha)\n",
    "        elif bot_type.lower() == 'complex':\n",
    "            # generate the values \n",
    "            new_high_frequency_window, new_low_frequency_window = parameter_tweak('complex',high_window, low_window)\n",
    "            \n",
    "        # run the total cash return after trading\n",
    "        cash1=bot_fitness_func(bot_type, high_window, low_window, alpha)\n",
    "        cash2=bot_fitness_func(bot_type, new_high_frequency_window, new_low_frequency_window, new_alpha)\n",
    "        # compare the cash earned after tweaking the parameters\n",
    "        if cash2 > cash1:\n",
    "            high_window = new_high_frequency_window\n",
    "            low_window = new_low_frequency_window\n",
    "            alpha=new_alpha\n",
    "            cash1 = cash2\n",
    "    if bot_type.lower() == 'sma' or bot_type.lower() == 'complex':\n",
    "        return [high_window, low_window], float(cash1)\n",
    "    elif bot_type.lower() == 'smaema':\n",
    "        return [high_window, low_window, alpha], float(cash1)\n",
    "\n",
    "def parameter_tweak(bot_type, hfw, lfw, alpha =0):\n",
    "    if bot_type.lower() == 'sma':\n",
    "        new_hfw, new_lfw = window_tweak(hfw, lfw)\n",
    "        return new_hfw, new_lfw\n",
    "    elif bot_type.lower() == 'smaema' and alpha !=0:\n",
    "        new_hfw, new_lfw = window_tweak(hfw, lfw)\n",
    "        new_alpha = alpha_tweak(alpha)\n",
    "        return new_hfw, new_lfw, new_alpha\n",
    "    elif bot_type.lower() == 'complex':\n",
    "        new_hfw, new_lfw = complex_tweak(hfw, lfw)\n",
    "        return new_hfw, new_lfw\n",
    "\n",
    "def window_tweak(hfw, lfw):\n",
    "    rng = np.random.default_rng()\n",
    "    for _ in range(100):\n",
    "        # new high frequency window\n",
    "        a=int(rng.integers(-5,6))\n",
    "        new_hfw=hfw+a\n",
    "        # new low frequency window\n",
    "        b=int(rng.integers(-5,6))\n",
    "        new_lfw=lfw+b\n",
    "        # we check to make sure that new_hfw in range(11,40) and new_lfw(2,10)\n",
    "        new_hfw = max(2, min(50, new_hfw)) # can change the bounds to 5-50 \n",
    "        new_lfw = max(51, min(100, new_lfw)) # can change the bounds to 51-100\n",
    "        if new_hfw < new_lfw:\n",
    "            return new_hfw, new_lfw\n",
    "    return hfw, lfw\n",
    "\n",
    "def alpha_tweak(alpha):\n",
    "    rng = np.random.default_rng()\n",
    "    for _ in range(100):\n",
    "        diff = rng.uniform(-0.15, 0.15)\n",
    "        new_alpha = alpha + diff\n",
    "        if 0<= new_alpha <= 1:\n",
    "            return new_alpha\n",
    "    return alpha # if after 100 loops and cannot find the optimal value, then we return the original alpha\n",
    "\n",
    "def weights_tweak(weight_lst):\n",
    "    rng = np.random.default_rng()\n",
    "    # random index number of a weight in a list\n",
    "    position=int(rng.integers(0,3))\n",
    "    # normalised weights\n",
    "    normalised_weights = [float(weight)/sum(weight_lst) for weight in weight_lst]\n",
    "\n",
    "    # tweak the randomly selected weight with proportion different\n",
    "    selected_weight_rate = normalised_weights[position]\n",
    "    diff = np.random.uniform(-0.15, 0.15)\n",
    "    selected_weight_rate += diff\n",
    "\n",
    "    # the rate of other weights\n",
    "    other_weight_idx= [idx for idx in range(3) if idx!=position]\n",
    "    remainder_rate = 1- selected_weight_rate \n",
    "    # the remaining 2 weights, we generate randomly the proportion and multiply it with the current rates \n",
    "    one_weight_rate = rng.uniform(0.1, 0.9)\n",
    "    another_weight_rate = 1- one_weight_rate\n",
    "    other_weight_rates=[one_weight_rate, another_weight_rate]\n",
    "    new_other_weight_rates = [remainder_rate * s for s in other_weight_rates]\n",
    "\n",
    "    new_weights = [0,0,0]\n",
    "    new_weights[position] = selected_weight_rate * sum(weight_lst)\n",
    "    for i in range(2):\n",
    "        idx = other_weight_idx[i]\n",
    "        new_weights[idx] = new_other_weight_rates[i] * sum(weight_lst)\n",
    "\n",
    "    return new_weights[0], new_weights[1], new_weights[2]\n",
    "\n",
    "\n",
    "def complex_tweak(hfw, lfw):\n",
    "    # in this code, hfw and lfw input are array-type in format of [w1, w2, w3, d1, d2, d3, sf]\n",
    "    # weight tweak\n",
    "    new_hfw_w1, new_hfw_w2,new_hfw_w3 = weights_tweak(hfw[0:3])\n",
    "    new_lfw_w1, new_lfw_w2,new_lfw_w3 = weights_tweak(lfw[0:3])\n",
    "\n",
    "    # window tweak\n",
    "    new_hfw_d1, new_lfw_d1 = window_tweak(hfw[3], lfw[3])\n",
    "    new_hfw_d2, new_lfw_d2 = window_tweak(hfw[4], lfw[4])\n",
    "    new_hfw_d3, new_lfw_d3 = window_tweak(hfw[5], lfw[5])\n",
    "\n",
    "    # alpha tweak\n",
    "    new_hfw_alpha = alpha_tweak(hfw[-1])\n",
    "    new_lfw_alpha = alpha_tweak(lfw[-1])\n",
    "\n",
    "    return [new_hfw_w1, new_hfw_w2, new_hfw_w3, new_hfw_d1, new_hfw_d2, new_hfw_d3,new_hfw_alpha], [new_lfw_w1, new_lfw_w2, new_lfw_w3, new_lfw_d1, new_lfw_d2, new_lfw_d3, new_lfw_alpha]\n"
   ]
  },
  {
   "cell_type": "markdown",
   "metadata": {},
   "source": [
    "## b. Fitness function on training and testing data"
   ]
  },
  {
   "cell_type": "code",
   "execution_count": 67,
   "metadata": {},
   "outputs": [],
   "source": [
    "def bot_fitness_func(bot_type, high_window, low_window, alpha=0): # change bot_signals to high_frequency_window_size, low_frequency_window_size\n",
    "    # intialise bot, use training dataset for optimisation algorithms fitness functions\n",
    "    bot_signals=[]\n",
    "    close_price = pd.read_csv('training.csv')['close']\n",
    "    \n",
    "    if bot_type.lower() == 'sma' and alpha ==0:\n",
    "        bot_signals = bot.get_signals_sma2(close_price, high_window, low_window) #need to think about how to call 2 other bot algorithms\n",
    "    elif bot_type.lower() == 'smaema' and alpha!=0:\n",
    "        bot_signals = bot.get_signals_smaema(close_price, high_window, low_window, alpha)\n",
    "    elif bot_type.lower() == 'complex' and alpha==0: #as alpha values were stored in the list of high_window and low_window\n",
    "        bot_signals = bot.get_signals_complex(close_price, high_window, low_window)\n",
    "\n",
    "    # initial values\n",
    "    cash = 1000\n",
    "    fee=0.03\n",
    "    bitcoin = 0.0\n",
    "\n",
    "    #loop through the time length\n",
    "    for i in range(min(len(bot_signals),len(close_price)-1)):\n",
    "        close=close_price.iloc[i]\n",
    "        # buy, ensure we have cash to buy\n",
    "        if bot_signals[i] == \"buy\" and cash>0:\n",
    "            bitcoin =  (cash*(1-fee))/close\n",
    "            cash = 0\n",
    "        # sell, ensure we have bitcoin to sell\n",
    "        elif bot_signals[i] == \"sell\" and bitcoin>0:\n",
    "            cash = bitcoin * close * (1-fee)\n",
    "            bitcoin =0\n",
    "    \n",
    "    # final evaluation to change back to cash\n",
    "    last_close=close_price.iloc[-1]\n",
    "    if bitcoin>0:\n",
    "        cash = bitcoin * last_close * (1-fee)\n",
    "        bitcoin =0\n",
    "        return cash\n",
    "    elif cash >0:\n",
    "        return cash"
   ]
  },
  {
   "cell_type": "code",
   "execution_count": 99,
   "metadata": {},
   "outputs": [],
   "source": [
    "def bot_testing(bot_type, optimal_values, alpha=0):\n",
    "    # intialise bot, use training dataset for optimisation algorithms fitness functions\n",
    "    bot_signals=[]\n",
    "    close_price = pd.read_csv('testing.csv')['close']\n",
    "    time = pd.read_csv('testing.csv')['date']\n",
    "    result=[]\n",
    "\n",
    "    # intialise bot, use training dataset for optimisation algorithms fitness functions\n",
    "    if bot_type.lower() == 'sma' and alpha ==0:\n",
    "        bot_signals = bot.get_signals_sma2(close_price, optimal_values[0], optimal_values[1])\n",
    "    elif bot_type.lower() == 'smaema' and alpha!=0:\n",
    "        bot_signals = bot.get_signals_smaema(close_price, optimal_values[0], optimal_values[1], optimal_values[2])\n",
    "    elif bot_type.lower() == 'complex' and alpha==0: #as alpha values were stored in the list of high_window and low_window\n",
    "        bot_signals = bot.get_signals_complex(close_price, optimal_values[0], optimal_values[1])\n",
    "    \n",
    "    # initial values\n",
    "    cash = 1000\n",
    "    fee=0.03\n",
    "    bitcoin = 0.0\n",
    "    \n",
    "    #loop through the time length\n",
    "    for i in range(min(len(bot_signals),len(close_price)-1)):\n",
    "        close=close_price[i]\n",
    "        # buy\n",
    "        if bot_signals[i] == \"buy\" and cash>0:\n",
    "            bitcoin =  (cash*(1-fee))/close\n",
    "            cash = 0\n",
    "            result.append([time[i],cash, bitcoin])\n",
    "        # sell\n",
    "        elif bot_signals[i] == \"sell\" and bitcoin>0:\n",
    "            cash = bitcoin * close * (1-fee)\n",
    "            bitcoin =0\n",
    "            result.append([time[i],cash, bitcoin])\n",
    "    \n",
    "    # final evaluation to change back to cash\n",
    "    last_close=close_price.iloc[-1]\n",
    "    if bitcoin>0:\n",
    "        cash = bitcoin * last_close * (1-fee)\n",
    "        bitcoin =0\n",
    "        result.append([time.iloc[-1],cash, bitcoin])\n",
    "        return result\n",
    "    elif cash>0:\n",
    "        result.append([time.iloc[-1],cash, bitcoin])\n",
    "        return result"
   ]
  },
  {
   "cell_type": "markdown",
   "metadata": {},
   "source": [
    "# 3. Running the whole bot\n",
    "## PART A: Training the bot to get the optimal result"
   ]
  },
  {
   "cell_type": "code",
   "execution_count": 100,
   "metadata": {},
   "outputs": [
    {
     "data": {
      "text/plain": [
       "([50, 87], 22693.582411359766)"
      ]
     },
     "execution_count": 100,
     "metadata": {},
     "output_type": "execute_result"
    }
   ],
   "source": [
    "#sma\n",
    "sma_optimals, cash_result = hill_climbing('sma',[(5,50),(51,100)])\n",
    "sma_optimals, cash_result"
   ]
  },
  {
   "cell_type": "code",
   "execution_count": 105,
   "metadata": {},
   "outputs": [
    {
     "data": {
      "text/plain": [
       "([42, 93, 0.6706570006612922], 9001.17284020968)"
      ]
     },
     "execution_count": 105,
     "metadata": {},
     "output_type": "execute_result"
    }
   ],
   "source": [
    "#smaema\n",
    "samema_optimals, cash_result = hill_climbing('smaema', [(5,50),(51,100),(0,1)])\n",
    "samema_optimals, cash_result"
   ]
  },
  {
   "cell_type": "code",
   "execution_count": 108,
   "metadata": {},
   "outputs": [
    {
     "data": {
      "text/plain": [
       "([[2.1504862911438005,\n",
       "   7.081781609383729,\n",
       "   10.767732099472454,\n",
       "   5,\n",
       "   12,\n",
       "   12,\n",
       "   0.7985980675032072],\n",
       "  [5.569622314857168,\n",
       "   1.7910499968519256,\n",
       "   3.639327688290903,\n",
       "   99,\n",
       "   63,\n",
       "   95,\n",
       "   0.7290797568119006]],\n",
       " 21162.20872879772)"
      ]
     },
     "execution_count": 108,
     "metadata": {},
     "output_type": "execute_result"
    }
   ],
   "source": [
    "#complex\n",
    "complex_optimals, cash_result = hill_climbing('complex',[(0,10),(0,10),(0,10),(5,50),(5,50),(5,50),(0,1), (0,10),(0,10),(0,10),(51,100),(51,100),(51,100),(0,1)])\n",
    "complex_optimals, cash_result"
   ]
  },
  {
   "cell_type": "markdown",
   "metadata": {},
   "source": [
    "## PART B: Testing the bot with optimal results\n"
   ]
  },
  {
   "cell_type": "code",
   "execution_count": 72,
   "metadata": {},
   "outputs": [],
   "source": [
    "def bot_evaluation(bot_type, optimal_values):\n",
    "    # This function will returns the result nicely\n",
    "    result_lst=bot_testing(bot_type, optimal_values)\n",
    "    result_df=pd.DataFrame(result_lst, columns=[\"Time\", \"Cash\", \"Bitcoin\"])\n",
    "    print(result_df.to_string(index=False, justify=\"center\", float_format='{:,.2f}'.format))\n",
    "    #return result_df"
   ]
  },
  {
   "cell_type": "code",
   "execution_count": 104,
   "metadata": {},
   "outputs": [
    {
     "name": "stdout",
     "output_type": "stream",
     "text": [
      "   Time      Cash    Bitcoin\n",
      "2020-01-04     0.00   0.13  \n",
      "2020-03-27   816.83   0.00  \n",
      "2020-05-15     0.00   0.09  \n",
      "2020-10-09   912.73   0.00  \n",
      "2020-10-31     0.00   0.06  \n",
      "2021-05-22 2,330.99   0.00  \n",
      "2021-08-14     0.00   0.05  \n",
      "2021-12-22 2,263.01   0.00  \n",
      "2022-03-01 2,263.01   0.00  \n"
     ]
    }
   ],
   "source": [
    "#sma - nice printout\n",
    "bot_evaluation('sma', sma_optimals)"
   ]
  },
  {
   "cell_type": "code",
   "execution_count": 107,
   "metadata": {},
   "outputs": [
    {
     "name": "stdout",
     "output_type": "stream",
     "text": [
      "   Time     Cash  Bitcoin\n",
      "2022-03-01  1000   0.00  \n"
     ]
    }
   ],
   "source": [
    "#smaema\n",
    "bot_evaluation('smaema', samema_optimals)"
   ]
  },
  {
   "cell_type": "code",
   "execution_count": 109,
   "metadata": {},
   "outputs": [
    {
     "name": "stdout",
     "output_type": "stream",
     "text": [
      "   Time      Cash    Bitcoin\n",
      "2020-03-24     0.00   0.14  \n",
      "2020-03-27   886.32   0.00  \n",
      "2020-04-23     0.00   0.11  \n",
      "2021-05-17 4,857.23   0.00  \n",
      "2021-07-27     0.00   0.12  \n",
      "2021-12-09 5,509.98   0.00  \n",
      "2022-02-14     0.00   0.13  \n",
      "2022-02-20 4,676.59   0.00  \n",
      "2022-02-28     0.00   0.11  \n",
      "2022-03-01 4,400.86   0.00  \n"
     ]
    }
   ],
   "source": [
    "#complex\n",
    "bot_evaluation('complex',complex_optimals)"
   ]
  }
 ],
 "metadata": {
  "kernelspec": {
   "display_name": ".venv",
   "language": "python",
   "name": "python3"
  },
  "language_info": {
   "codemirror_mode": {
    "name": "ipython",
    "version": 3
   },
   "file_extension": ".py",
   "mimetype": "text/x-python",
   "name": "python",
   "nbconvert_exporter": "python",
   "pygments_lexer": "ipython3",
   "version": "3.9.6"
  }
 },
 "nbformat": 4,
 "nbformat_minor": 2
}
