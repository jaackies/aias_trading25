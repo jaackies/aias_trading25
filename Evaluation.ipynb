{
 "cells": [
  {
   "cell_type": "code",
   "execution_count": 31,
   "metadata": {},
   "outputs": [],
   "source": [
    "# import important library\n",
    "import pandas as pd\n",
    "import numpy as np\n",
    "import bot"
   ]
  },
  {
   "cell_type": "code",
   "execution_count": 61,
   "metadata": {},
   "outputs": [
    {
     "data": {
      "text/plain": [
       "<module 'bot' from '/Users/henrytran/Documents/GitHub/aias_trading25/bot.py'>"
      ]
     },
     "execution_count": 61,
     "metadata": {},
     "output_type": "execute_result"
    }
   ],
   "source": [
    "import importlib\n",
    "importlib.reload(bot)"
   ]
  },
  {
   "cell_type": "markdown",
   "metadata": {},
   "source": [
    "# 1. Data Processing"
   ]
  },
  {
   "cell_type": "code",
   "execution_count": 2,
   "metadata": {},
   "outputs": [
    {
     "data": {
      "text/html": [
       "<div>\n",
       "<style scoped>\n",
       "    .dataframe tbody tr th:only-of-type {\n",
       "        vertical-align: middle;\n",
       "    }\n",
       "\n",
       "    .dataframe tbody tr th {\n",
       "        vertical-align: top;\n",
       "    }\n",
       "\n",
       "    .dataframe thead th {\n",
       "        text-align: right;\n",
       "    }\n",
       "</style>\n",
       "<table border=\"1\" class=\"dataframe\">\n",
       "  <thead>\n",
       "    <tr style=\"text-align: right;\">\n",
       "      <th></th>\n",
       "      <th>unix</th>\n",
       "      <th>date</th>\n",
       "      <th>symbol</th>\n",
       "      <th>open</th>\n",
       "      <th>high</th>\n",
       "      <th>low</th>\n",
       "      <th>close</th>\n",
       "      <th>Volume BTC</th>\n",
       "      <th>Volume USD</th>\n",
       "    </tr>\n",
       "  </thead>\n",
       "  <tbody>\n",
       "    <tr>\n",
       "      <th>0</th>\n",
       "      <td>1646092800</td>\n",
       "      <td>2022-03-01 00:00:00</td>\n",
       "      <td>BTC/USD</td>\n",
       "      <td>43221.71</td>\n",
       "      <td>43626.49</td>\n",
       "      <td>43185.48</td>\n",
       "      <td>43185.48</td>\n",
       "      <td>49.006289</td>\n",
       "      <td>2.116360e+06</td>\n",
       "    </tr>\n",
       "    <tr>\n",
       "      <th>1</th>\n",
       "      <td>1646006400</td>\n",
       "      <td>2022-02-28 00:00:00</td>\n",
       "      <td>BTC/USD</td>\n",
       "      <td>37717.10</td>\n",
       "      <td>44256.08</td>\n",
       "      <td>37468.99</td>\n",
       "      <td>43178.98</td>\n",
       "      <td>3160.618070</td>\n",
       "      <td>1.364723e+08</td>\n",
       "    </tr>\n",
       "    <tr>\n",
       "      <th>2</th>\n",
       "      <td>1645920000</td>\n",
       "      <td>2022-02-27 00:00:00</td>\n",
       "      <td>BTC/USD</td>\n",
       "      <td>39146.66</td>\n",
       "      <td>39886.92</td>\n",
       "      <td>37015.74</td>\n",
       "      <td>37712.68</td>\n",
       "      <td>1701.817043</td>\n",
       "      <td>6.418008e+07</td>\n",
       "    </tr>\n",
       "    <tr>\n",
       "      <th>3</th>\n",
       "      <td>1645833600</td>\n",
       "      <td>2022-02-26 00:00:00</td>\n",
       "      <td>BTC/USD</td>\n",
       "      <td>39242.64</td>\n",
       "      <td>40330.99</td>\n",
       "      <td>38600.00</td>\n",
       "      <td>39146.66</td>\n",
       "      <td>912.724087</td>\n",
       "      <td>3.573010e+07</td>\n",
       "    </tr>\n",
       "    <tr>\n",
       "      <th>4</th>\n",
       "      <td>1645747200</td>\n",
       "      <td>2022-02-25 00:00:00</td>\n",
       "      <td>BTC/USD</td>\n",
       "      <td>38360.93</td>\n",
       "      <td>39727.97</td>\n",
       "      <td>38027.61</td>\n",
       "      <td>39231.64</td>\n",
       "      <td>2202.851827</td>\n",
       "      <td>8.642149e+07</td>\n",
       "    </tr>\n",
       "  </tbody>\n",
       "</table>\n",
       "</div>"
      ],
      "text/plain": [
       "         unix                 date   symbol      open      high       low  \\\n",
       "0  1646092800  2022-03-01 00:00:00  BTC/USD  43221.71  43626.49  43185.48   \n",
       "1  1646006400  2022-02-28 00:00:00  BTC/USD  37717.10  44256.08  37468.99   \n",
       "2  1645920000  2022-02-27 00:00:00  BTC/USD  39146.66  39886.92  37015.74   \n",
       "3  1645833600  2022-02-26 00:00:00  BTC/USD  39242.64  40330.99  38600.00   \n",
       "4  1645747200  2022-02-25 00:00:00  BTC/USD  38360.93  39727.97  38027.61   \n",
       "\n",
       "      close   Volume BTC    Volume USD  \n",
       "0  43185.48    49.006289  2.116360e+06  \n",
       "1  43178.98  3160.618070  1.364723e+08  \n",
       "2  37712.68  1701.817043  6.418008e+07  \n",
       "3  39146.66   912.724087  3.573010e+07  \n",
       "4  39231.64  2202.851827  8.642149e+07  "
      ]
     },
     "execution_count": 2,
     "metadata": {},
     "output_type": "execute_result"
    }
   ],
   "source": [
    "# read the csv file\n",
    "daily_df=pd.read_csv('BTC-Daily.csv')\n",
    "daily_df.head()"
   ]
  },
  {
   "cell_type": "code",
   "execution_count": null,
   "metadata": {},
   "outputs": [],
   "source": [
    "# convert time strings into timestamps, and take only year, month and date values\n",
    "daily_df[\"date\"]=pd.to_datetime(daily_df[\"date\"]).dt.strftime(\"%Y-%m-%d\")"
   ]
  },
  {
   "cell_type": "code",
   "execution_count": 4,
   "metadata": {},
   "outputs": [
    {
     "data": {
      "text/plain": [
       "(2651, 9)"
      ]
     },
     "execution_count": 4,
     "metadata": {},
     "output_type": "execute_result"
    }
   ],
   "source": [
    "daily_df.shape"
   ]
  },
  {
   "cell_type": "markdown",
   "metadata": {},
   "source": [
    "The dataset has 2651 records from 2014 to 2022.\n",
    "\n",
    "As the data is needed for training and testing, every records before 2020 will be used for training and every records after 2020 will be used for testing."
   ]
  },
  {
   "cell_type": "code",
   "execution_count": 5,
   "metadata": {},
   "outputs": [],
   "source": [
    "# splitting the data\n",
    "training = daily_df[daily_df[\"date\"]<\"2020-01-01\"]\n",
    "testing = daily_df[daily_df[\"date\"]>=\"2020-01-01\"]"
   ]
  },
  {
   "cell_type": "code",
   "execution_count": 66,
   "metadata": {},
   "outputs": [],
   "source": [
    "# convert the data into csv files\n",
    "training.to_csv('training.csv')\n",
    "testing.to_csv('testing.csv')"
   ]
  },
  {
   "cell_type": "markdown",
   "metadata": {},
   "source": [
    "After splitting, the training dataset has 1860 records and the testing data has 791 records."
   ]
  },
  {
   "cell_type": "code",
   "execution_count": 6,
   "metadata": {},
   "outputs": [
    {
     "name": "stdout",
     "output_type": "stream",
     "text": [
      "(1860, 9)\n",
      "(791, 9)\n"
     ]
    }
   ],
   "source": [
    "print(training.shape)\n",
    "print(testing.shape)"
   ]
  },
  {
   "cell_type": "markdown",
   "metadata": {},
   "source": [
    "# 2. Hill-climbing algorithm"
   ]
  },
  {
   "cell_type": "markdown",
   "metadata": {},
   "source": [
    "## a. Try the bot"
   ]
  },
  {
   "cell_type": "code",
   "execution_count": 7,
   "metadata": {},
   "outputs": [],
   "source": [
    "# extract the data\n",
    "close_price_train=training[\"close\"]\n",
    "no_of_day_train=training.shape[0]\n",
    "close_price_test =testing[\"close\"]\n",
    "no_of_day_test=testing.shape[0]"
   ]
  },
  {
   "cell_type": "code",
   "execution_count": 8,
   "metadata": {},
   "outputs": [
    {
     "name": "stdout",
     "output_type": "stream",
     "text": [
      "[-5844.114 -4371.12  -2900.949 ...   371.484   374.107   375.274]\n",
      "1860\n",
      "[-6466.681  -5746.248  -5014.0975 ...   354.9755   357.9115   361.117 ]\n",
      "1860\n"
     ]
    }
   ],
   "source": [
    "low_sma = bot.wma(close_price_train, 10, bot.sma_filter(10))\n",
    "high_sma = bot.wma(close_price_train, 20, bot.sma_filter(20))\n",
    "\n",
    "print(low_sma)\n",
    "print(len(low_sma))\n",
    "print(high_sma)\n",
    "print(len(high_sma))"
   ]
  },
  {
   "cell_type": "code",
   "execution_count": 63,
   "metadata": {},
   "outputs": [],
   "source": [
    "buy_sell_signals=[]\n",
    "for i in range(len(low_sma)-1):\n",
    "    if low_sma[i]<high_sma[i] and low_sma[i+1]>high_sma[i+1]:\n",
    "        buy_sell_signals.append(\"buy\")\n",
    "    elif low_sma[i]>high_sma[i] and low_sma[i+1]<high_sma[i+1]:\n",
    "        buy_sell_signals.append(\"sell\")\n",
    "    else:\n",
    "        buy_sell_signals.append(\"-\")"
   ]
  },
  {
   "cell_type": "code",
   "execution_count": 10,
   "metadata": {},
   "outputs": [],
   "source": [
    "def bot_sma(close_price, hfw, lfw):\n",
    "    low_sma = bot.wma(close_price, lfw, bot.sma_filter(lfw))\n",
    "    high_sma = bot.wma(close_price, hfw, bot.sma_filter(hfw))\n",
    "    buy_sell_signals=[]\n",
    "    for i in range(len(low_sma)-1):\n",
    "        if low_sma[i]<high_sma[i] and low_sma[i+1]>high_sma[i+1]:\n",
    "            buy_sell_signals.append(\"buy\")\n",
    "        elif low_sma[i]>high_sma[i] and low_sma[i+1]<high_sma[i+1]:\n",
    "            buy_sell_signals.append(\"sell\")\n",
    "        else:\n",
    "            buy_sell_signals.append(\"-\")\n",
    "    return buy_sell_signals"
   ]
  },
  {
   "cell_type": "code",
   "execution_count": 12,
   "metadata": {},
   "outputs": [
    {
     "data": {
      "text/plain": [
       "3"
      ]
     },
     "execution_count": 12,
     "metadata": {},
     "output_type": "execute_result"
    }
   ],
   "source": [
    "np.random.randint(-5,5)"
   ]
  },
  {
   "cell_type": "markdown",
   "metadata": {},
   "source": [
    "## b. Hill-climbing algorithm"
   ]
  },
  {
   "cell_type": "code",
   "execution_count": 68,
   "metadata": {},
   "outputs": [],
   "source": [
    "# Pseudocode for hill-climbing \n",
    "\n",
    "def hill_climbing(close_price, high_frequency_window, low_frequency_window, max_iter=100):\n",
    "    if 11 <= high_frequency_window <= 40 and 2 <= low_frequency_window <= 10:\n",
    "        # run the first bot\n",
    "        high_window = high_frequency_window\n",
    "        low_window = low_frequency_window\n",
    "        for i in range(max_iter):\n",
    "            # run the second bot with tweak parameter\n",
    "            new_high_frequency_window, new_low_frequency_window = parameter_tweak(high_frequency_window, low_frequency_window)\n",
    "            cash2=bot_fitness_func(new_high_frequency_window, new_low_frequency_window)\n",
    "            cash1=bot_fitness_func(high_window, low_window) \n",
    "            if  cash2> cash1:\n",
    "                high_window = new_high_frequency_window\n",
    "                low_window = new_low_frequency_window\n",
    "                bot1=bot2\n",
    "                cash1=cash2\n",
    "        return high_frequency_window, low_frequency_window, cash1\n",
    "\n",
    "def parameter_tweak(hfw, lfw):\n",
    "    rng = np.random.default_rng()\n",
    "    a=rng.integers(-5,6)\n",
    "    new_hfw=hfw+a\n",
    "    b=rng.integers(-5,6)\n",
    "    new_lfw=lfw+b\n",
    "    # we check to make sure that new_hfw in range(11,40) and new_lfw(2,10)\n",
    "    new_hfw = max(11, min(40, new_hfw))\n",
    "    new_lfw = max(2, min(10, new_lfw))\n",
    "    if new_hfw > new_lfw:\n",
    "        return new_hfw, new_lfw\n",
    "    else:\n",
    "        return parameter_tweak(new_hfw, new_lfw)\n"
   ]
  },
  {
   "cell_type": "code",
   "execution_count": 69,
   "metadata": {},
   "outputs": [
    {
     "data": {
      "text/plain": [
       "(20, 10, 1000)"
      ]
     },
     "execution_count": 69,
     "metadata": {},
     "output_type": "execute_result"
    }
   ],
   "source": [
    "hfw_result, lfw_result, cash_result = hill_climbing(close_price_train, 20,10)\n",
    "hfw_result, lfw_result, cash_result"
   ]
  },
  {
   "cell_type": "code",
   "execution_count": 47,
   "metadata": {},
   "outputs": [
    {
     "data": {
      "text/plain": [
       "1000"
      ]
     },
     "execution_count": 47,
     "metadata": {},
     "output_type": "execute_result"
    }
   ],
   "source": [
    "# final cash amount\n",
    "cash_result"
   ]
  },
  {
   "cell_type": "markdown",
   "metadata": {},
   "source": [
    "# 3. Fitness function and Bot evaluation function"
   ]
  },
  {
   "cell_type": "code",
   "execution_count": 70,
   "metadata": {},
   "outputs": [],
   "source": [
    "def bot_fitness_func(high_window, low_window): # change bot_signals to high_frequency_window_size, low_frequency_window_size\n",
    "    \"\"\"\n",
    "    This function will calculate the fitness (total cash earned from the buy/sell signals) of the trading bot\n",
    "    Parameters:\n",
    "    - bot_signals (list): including the buy/sell and keep signal\n",
    "    - time: recorded trading time (daily)\n",
    "    Return:\n",
    "    - cash: the total cash amount earned after the trading time\n",
    "    \"\"\" \n",
    "    \n",
    "    # call the bot in here\n",
    "    # Jackie looks after this part - just need to call the bot with 2 parameters (high_frequency_window_size, low_frequency_window_size)\n",
    "    \n",
    "    # intialise bot, use training dataset for optimisation algorithms fitness functions\n",
    "    close_price = pd.read_csv('training.csv')['close']\n",
    "    bot_signals = bot.get_signals_sma2(close_price, high_window, low_window) #need to think about how to call 2 other bot algorithms\n",
    "\n",
    "    # initial values\n",
    "    cash = 1000\n",
    "    fee=0.03\n",
    "    bitcoin = 0.0\n",
    "\n",
    "    #loop through the time length\n",
    "    for i in range(len(close_price)-1):\n",
    "        close=close_price.iloc[i]\n",
    "        # buy, ensure we have cash to buy\n",
    "        if bot_signals[i] == \"buy\" and cash>0:\n",
    "            bitcoin =  (cash*(1-fee))/close\n",
    "            cash = 0\n",
    "        # sell, ensure we have bitcoin to sell\n",
    "        elif bot_signals[i] == \"sell\" and bitcoin>0:\n",
    "            cash = bitcoin * close * (1-fee)\n",
    "            bitcoin =0\n",
    "    \n",
    "    # final evaluation to change back to cash\n",
    "    last_close=close_price.iloc[-1]\n",
    "    if bitcoin>0:\n",
    "        cash = bitcoin * last_close * (1-fee)\n",
    "        bitcoin =0\n",
    "    \n",
    "    return cash"
   ]
  },
  {
   "cell_type": "code",
   "execution_count": null,
   "metadata": {},
   "outputs": [],
   "source": [
    "def bot_evaluation(bot_signals, time, close_price):\n",
    "    \"\"\"\n",
    "    This function will calculate the total cash earned from the buy/sell signals of the trading bot.\n",
    "    Parameters:\n",
    "    - bot_signals (list): including the buy/sell and keep signal\n",
    "    - time: recorded trading time (daily)\n",
    "    Return:\n",
    "    - result: a nested list, with each smallest contains the time of the transaction, the amount of cash and amount of bitcoin\n",
    "    \"\"\" \n",
    "    # initial values\n",
    "    cash = 1000\n",
    "    fee=0.03\n",
    "    bitcoin = 0.0\n",
    "\n",
    "    result =[]\n",
    "    \n",
    "    #loop through the time length\n",
    "    for i in range(len(time)-1):\n",
    "        close_price=close[i]\n",
    "        # buy\n",
    "        if bot_signals[i] == \"buy\":\n",
    "            bitcoin =  (cash*(1-fee))/close_price\n",
    "            cash = 0\n",
    "            result.append([time[i],cash, bitcoin])\n",
    "        # sell\n",
    "        elif bot_signals[i] == \"sell\":\n",
    "            cash = bitcoin * close_price * (1-fee)\n",
    "            bitcoin =0\n",
    "            result.append([time[i],cash, bitcoin])\n",
    "    \n",
    "    # final evaluation to change back to cash\n",
    "    close_price=close[-1]\n",
    "    if bitcoin>0:\n",
    "        cash = bitcoin * close_price * (1-fee)\n",
    "        bitcoin =0\n",
    "        result.append([time[i],cash, bitcoin])\n",
    "    \n",
    "    return result"
   ]
  },
  {
   "cell_type": "code",
   "execution_count": null,
   "metadata": {},
   "outputs": [],
   "source": [
    "#def print_nicely(list):\n",
    "    "
   ]
  }
 ],
 "metadata": {
  "kernelspec": {
   "display_name": ".venv",
   "language": "python",
   "name": "python3"
  },
  "language_info": {
   "codemirror_mode": {
    "name": "ipython",
    "version": 3
   },
   "file_extension": ".py",
   "mimetype": "text/x-python",
   "name": "python",
   "nbconvert_exporter": "python",
   "pygments_lexer": "ipython3",
   "version": "3.9.6"
  }
 },
 "nbformat": 4,
 "nbformat_minor": 2
}
