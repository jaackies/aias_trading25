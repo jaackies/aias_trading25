{
 "cells": [
  {
   "cell_type": "code",
   "execution_count": null,
   "metadata": {},
   "outputs": [],
   "source": [
    "\"\"\"\n",
    "Psudocode for bot_evalutaion function:\n",
    "\n",
    "Way to implement:\n",
    "\n",
    "def bot_evaluation(bot_signals): \n",
    "    # initial values\n",
    "    cash = 1000\n",
    "    fee=0.03\n",
    "    bitcoin = 0.0\n",
    "\n",
    "    for i in range(len(time_frame)-1):\n",
    "        close_price=close[i]\n",
    "        # buy\n",
    "        if bot_signals[i] == \"buy\":\n",
    "            bitcoin =  (cash*(1-fee))/close_price\n",
    "            cash = 0\n",
    "        # sell\n",
    "        elif bot_signals[i] == \"sell\":\n",
    "            cash = bitcoin * close_price * (1-fee)\n",
    "            bitcoin =0\n",
    "    \n",
    "    # final evaluation to change back to cash\n",
    "    close_price=close[-1]\n",
    "    if bitcoin>0:\n",
    "        cash = bitcoin * close_price * (1-fee)\n",
    "        bitcoin =0\n",
    "    \n",
    "    return cash\n",
    "\"\"\""
   ]
  },
  {
   "cell_type": "code",
   "execution_count": null,
   "metadata": {},
   "outputs": [],
   "source": []
  }
 ],
 "metadata": {
  "language_info": {
   "name": "python"
  }
 },
 "nbformat": 4,
 "nbformat_minor": 2
}
