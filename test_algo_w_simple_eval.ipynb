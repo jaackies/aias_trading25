{
 "cells": [
  {
   "cell_type": "markdown",
   "id": "98648d13",
   "metadata": {},
   "source": [
    "Write an eval function for the function: $y = x(x-2)^2(x+3)^2$."
   ]
  },
  {
   "cell_type": "code",
   "execution_count": 1,
   "id": "6ba89292",
   "metadata": {},
   "outputs": [],
   "source": [
    "def quintic_function(params):\n",
    "    x, = params\n",
    "    return x * (x - 2)**2 * (x + 3)**2"
   ]
  },
  {
   "cell_type": "code",
   "execution_count": 2,
   "id": "b8d736dc",
   "metadata": {},
   "outputs": [
    {
     "data": {
      "application/vnd.plotly.v1+json": {
       "config": {
        "plotlyServerURL": "https://plot.ly"
       },
       "data": [
        {
         "mode": "lines",
         "name": "y = x(x-2)^2(x+3)^2",
         "type": "scatter",
         "x": {
          "bdata": "AAAAAAAAFMBlfpX5VeYTwMv8KvOrzBPAMHvA7AGzE8CW+VXmV5kTwPt369+tfxPAYPaA2QNmE8DGdBbTWUwTwCvzq8yvMhPAkHFBxgUZE8D279a/W/8SwFtubLmx5RLAwOwBswfMEsAma5esXbISwIvpLKazmBLA8WfCnwl/EsBW5leZX2USwLtk7ZK1SxLAIeOCjAsyEsCGYRiGYRgSwOzfrX+3/hHAUV5DeQ3lEcC23NhyY8sRwBxbbmy5sRHAgdkDZg+YEcDmV5lfZX4RwEzWLlm7ZBHAsVTEUhFLEcAW01lMZzERwHxR70W9FxHA4c+EPxP+EMBHTho5aeQQwKzMrzK/yhDAEUtFLBWxEMB3ydola5cQwNxHcB/BfRDAQsYFGRdkEMCnRJsSbUoQwAzDMAzDMBDAckHGBRkXEMCuf7f+3foPwHl84vGJxw/ARHkN5TWUD8AOdjjY4WAPwNlyY8uNLQ/ApG+Ovjn6DsBubLmx5cYOwDlp5KSRkw7ABGYPmD1gDsDPYjqL6SwOwJpfZX6V+Q3AZFyQcUHGDcAvWbtk7ZINwPpV5leZXw3AxFIRS0UsDcCPTzw+8fgMwFpMZzGdxQzAJUmSJEmSDMDwRb0X9V4MwLpC6AqhKwzAhT8T/kz4C8BQPD7x+MQLwBo5aeSkkQvA5TWU11BeC8CwMr/K/CoLwHsv6r2o9wrARiwVsVTECsAQKUCkAJEKwNsla5esXQrApiKWilgqCsBwH8F9BPcJwDsc7HCwwwnABhkXZFyQCcDRFUJXCF0JwJwSbUq0KQnAZg+YPWD2CMAxDMMwDMMIwPwI7iO4jwjAxgUZF2RcCMCRAkQKECkIwFz/bv279QfAJ/yZ8GfCB8Dy+MTjE48HwLz179a/WwfAh/IaymsoB8BS70W9F/UGwBzscLDDwQbA5+ibo2+OBsCy5caWG1sGwH3i8YnHJwbASN8cfXP0BcAS3EdwH8EFwN3YcmPLjQXAqNWdVndaBcBy0shJIycFwD3P8zzP8wTACMweMHvABMDTyEkjJ40EwJ7FdBbTWQTAaMKfCX8mBMAzv8r8KvMDwP679e/WvwPAyLgg44KMA8CTtUvWLlkDwF6ydsnaJQPAKa+hvIbyAsD0q8yvMr8CwL6o96LeiwLAiaUilopYAsBUok2JNiUCwB6feHzi8QHA6Zujb46+AcC0mM5iOosBwH+V+VXmVwHASpIkSZIkAcAUj088PvEAwN+Lei/qvQDAqoilIpaKAMB0hdAVQlcAwD+C+wjuIwDAFP5M+DPh/7+q96Lei3r/v0Dx+MTjE/+/1OpOqzut/r9q5KSRk0b+vwDe+nfr3/2/lNdQXkN5/b8q0aZEmxL9v8DK/Crzq/y/VsRSEUtF/L/svaj3ot77v4C3/t36d/u/FrFUxFIR+7+sqqqqqqr6v0CkAJECRPq/1p1Wd1rd+b9sl6xdsnb5vwKRAkQKEPm/mIpYKmKp+L8shK4QukL4v8J9BPcR3Pe/WHda3Wl197/scLDDwQ73v4JqBqoZqPa/GGRckHFB9r+uXbJ2ydr1v0RXCF0hdPW/2FBeQ3kN9b9uSrQp0ab0vwREChApQPS/mD1g9oDZ878uN7bc2HLzv8QwDMMwDPO/WipiqYil8r/wI7iP4D7yv4QdDnY42PG/GhdkXJBx8b+wELpC6Arxv0QKEClApPC/2gNmD5g98L/g+nfr363vvwjuI7iP4O6/OOHPhD8T7r9g1HtR70Xtv5DHJx6feOy/uLrT6k6r67/grX+3/t3qvxChK4SuEOq/OJTXUF5D6b9gh4MdDnbov5B6L+q9qOe/uG3btm3b5r/gYIeDHQ7mvxBUM1DNQOW/OEffHH1z5L9oOovpLKbjv5AtN7bc2OK/uCDjgowL4r/oE49PPD7hvxAHOxzscOC/gPTN0TdH37/Q2iVrl6zdvyDBfQT3Edy/gKfVnVZ32r/QjS03ttzYvyB0hdAVQte/gFrdaXWn1b/QQDUD1QzUvyAnjZw0ctK/gA3lNZTX0L+g53me53nOv2C0KdGmRMu/AIHZA2YPyL+gTYk2JdrEv2AaOWnkpMG/AM7RN0ffvL+AZzGdxXS2v8AAkQJECrC/ADThz4Q/o78AnIFqBqqJvwCagWoGqok/ADThz4Q/oz+AAJECRAqwP0BnMZ3FdLY/AM7RN0ffvD9AGjlp5KTBP6BNiTYl2sQ/4IDZA2YPyD9AtCnRpkTLP6DneZ7nec4/cA3lNZTX0D8gJ42cNHLSP8BANQPVDNQ/cFrdaXWn1T8gdIXQFULXP8CNLTe23Ng/cKfVnVZ32j8gwX0E9xHcP8DaJWuXrN0/cPTN0TdH3z8QBzsc7HDgP+ATj088PuE/uCDjgowL4j+ILTe23NjiP2A6i+kspuM/OEffHH1z5D8IVDNQzUDlP+Bgh4MdDuY/sG3btm3b5j+Iei/qvajnP2CHgx0Odug/MJTXUF5D6T8IoSuErhDqP+Ctf7f+3eo/sLrT6k6r6z+Ixycen3jsP2DUe1HvRe0/MOHPhD8T7j8I7iO4j+DuP9j6d+vfre8/2ANmD5g98D9EChApQKTwP6wQukLoCvE/GBdkXJBx8T+AHQ52ONjxP+wjuI/gPvI/WCpiqYil8j/AMAzDMAzzPyw3ttzYcvM/mD1g9oDZ8z8ARAoQKUD0P2xKtCnRpvQ/2FBeQ3kN9T9AVwhdIXT1P6xdsnbJ2vU/FGRckHFB9j+AagaqGaj2P+xwsMPBDvc/VHda3Wl19z/AfQT3Edz3PyiErhC6Qvg/lIpYKmKp+D8AkQJEChD5P2iXrF2ydvk/1J1Wd1rd+T9ApACRAkT6P6iqqqqqqvo/FLFUxFIR+z+At/7d+nf7P+i9qPei3vs/VMRSEUtF/D+8yvwq86v8PyjRpkSbEv0/lNdQXkN5/T/83fp369/9P2jkpJGTRv4/0OpOqzut/j888fjE4xP/P6j3ot6Lev8/EP5M+DPh/z8+gvsI7iMAQHSF0BVCVwBAqIilIpaKAEDei3ov6r0AQBSPTzw+8QBASJIkSZIkAUB+lflV5lcBQLKYzmI6iwFA6Jujb46+AUAen3h84vEBQFKiTYk2JQJAiKUilopYAkC8qPei3osCQPKrzK8yvwJAKK+hvIbyAkBcsnbJ2iUDQJK1S9YuWQNAyLgg44KMA0D8u/Xv1r8DQDK/yvwq8wNAaMKfCX8mBECcxXQW01kEQNLISSMnjQRABsweMHvABEA8z/M8z/MEQHLSyEkjJwVAptWdVndaBUDc2HJjy40FQBDcR3AfwQVARt8cfXP0BUB84vGJxycGQLDlxpYbWwZA5uibo2+OBkAc7HCww8EGQFDvRb0X9QZAhvIaymsoB0C89e/Wv1sHQPD4xOMTjwdAJvyZ8GfCB0Ba/279u/UHQJACRAoQKQhAxAUZF2RcCED8CO4juI8IQDAMwzAMwwhAZA+YPWD2CECcEm1KtCkJQNAVQlcIXQlABBkXZFyQCUA4HOxwsMMJQHAfwX0E9wlApCKWilgqCkDYJWuXrF0KQBApQKQAkQpARCwVsVTECkB4L+q9qPcKQLAyv8r8KgtA5DWU11BeC0AYOWnkpJELQFA8PvH4xAtAhD8T/kz4C0C4QugKoSsMQPBFvRf1XgxAJEmSJEmSDEBYTGcxncUMQJBPPD7x+AxAxFIRS0UsDUD4VeZXmV8NQCxZu2Ttkg1AZFyQcUHGDUCYX2V+lfkNQMxiOovpLA5ABGYPmD1gDkA4aeSkkZMOQGxsubHlxg5ApG+Ovjn6DkDYcmPLjS0PQAx2ONjhYA9ARHkN5TWUD0B4fOLxiccPQKx/t/7d+g9AcEHGBRkXEEAMwzAMwzAQQKZEmxJtShBAQMYFGRdkEEDcR3AfwX0QQHbJ2iVrlxBAEEtFLBWxEECszK8yv8oQQEZOGjlp5BBA4M+EPxP+EEB8Ue9FvRcRQBbTWUxnMRFAsFTEUhFLEUBM1i5Zu2QRQOZXmV9lfhFAgNkDZg+YEUAcW25subERQLbc2HJjyxFAUF5DeQ3lEUDq361/t/4RQIZhGIZhGBJAIOOCjAsyEkC6ZO2StUsSQFbmV5lfZRJA8GfCnwl/EkCK6Syms5gSQCZrl6xdshJAwOwBswfMEkBabmy5seUSQPbv1r9b/xJAkHFBxgUZE0Aq86vMrzITQMR0FtNZTBNAYPaA2QNmE0D6d+vfrX8TQJT5VeZXmRNAMHvA7AGzE0DK/Crzq8wTQGR+lflV5hNAAAAAAAAAFEA=",
          "dtype": "f8"
         },
         "y": [
          -980,
          -944.006273178391,
          -908.995126224826,
          -874.948087473791,
          -841.8469006813033,
          -809.673523838268,
          -778.4101279838518,
          -748.0390960188464,
          -718.5430215190303,
          -689.9047075485421,
          -662.107165473243,
          -635.1336137740797,
          -608.967476860457,
          -583.5923838836005,
          -558.9921675499198,
          -535.1508629343809,
          -512.0527062938655,
          -489.68213388054323,
          -468.02378075523416,
          -447.0624796007737,
          -426.78325953538337,
          -407.171344926031,
          -388.2121542018019,
          -369.89129866726273,
          -352.19458131582587,
          -335.1079956431189,
          -318.617724460349,
          -302.7101387076672,
          -287.371796267538,
          -272.58944077810344,
          -258.3500004465478,
          -244.6405868624676,
          -231.44849381123277,
          -218.76119608735686,
          -206.5663483078615,
          -194.8517837256409,
          -183.6055130428311,
          -172.81572322417284,
          -162.4707763103801,
          -152.55920823150524,
          -143.0697276203037,
          -133.99121462560274,
          -125.31271972566535,
          -117.02346254155691,
          -109.11283065051191,
          -101.570378399299,
          -94.38582571758744,
          -87.54905693131371,
          -81.05011957604664,
          -74.87922321035398,
          -69.02673822916837,
          -63.4831946771534,
          -58.23928106206981,
          -53.285843168141156,
          -48.613882869420166,
          -44.21455694315492,
          -40.07917588315448,
          -36.19920271315525,
          -32.56625180018703,
          -29.172087667938857,
          -26.00862381012544,
          -23.06792150385279,
          -20.342188622984466,
          -17.82377845150779,
          -15.505188496899605,
          -13.379059303492495,
          -11.438173265840826,
          -9.675453442086761,
          -8.083962367326436,
          -6.656900866975819,
          -5.387606870136888,
          -4.269554222963729,
          -3.296351502028455,
          -2.461740827687366,
          -1.759596677446971,
          -1.1839246993300316,
          -0.7288605252416643,
          -0.388668584335328,
          -0.1577409163789212,
          -0.03059598512084033,
          -0.0018774916560099736,
          -0.06635318779195648,
          -0.21891368941485784,
          -0.454571289855604,
          -0.7684587732558336,
          -1.1558282279340137,
          -1.6120498597514898,
          -2.1326108054785102,
          -2.713113946160327,
          -3.3492767204832252,
          -4.036929938140582,
          -4.772016593198936,
          -5.550590677463986,
          -6.368815993846735,
          -7.222964969729495,
          -8.1094174703319,
          -9.024659612077068,
          -9.96528257595756,
          -10.927981420901476,
          -11.909553897138535,
          -12.906899259566035,
          -13.91701708111503,
          -14.93700606611633,
          -15.964062863666504,
          -16.995480880994023,
          -18.028649096825276,
          -19.06105087475063,
          -20.09026277659048,
          -21.113953375761273,
          -22.12988207064165,
          -23.13589789793842,
          -24.12993834605262,
          -25.110028168445638,
          -26.074278197005192,
          -27.020884155411423,
          -27.948125472502973,
          -28.854364095642943,
          -29.73804330408507,
          -30.597686522339732,
          -31.43189613353995,
          -32.23935229280753,
          -33.01881174061908,
          -33.769106616172046,
          -34.4891432707508,
          -35.17790108109268,
          -35.83443126275403,
          -36.45785568347631,
          -37.04736567655206,
          -37.60222085419104,
          -38.121747920886264,
          -38.60533948678001,
          -39.05245288102996,
          -39.46260896517512,
          -39.83539094650205,
          -40.17044319141079,
          -40.46747003878093,
          -40.72623461333772,
          -40.9465576390181,
          -41.12831625233673,
          -41.27144281575205,
          -41.37592373103241,
          -41.44179825262197,
          -41.469157301006945,
          -41.458142276081496,
          -41.4089438705139,
          -41.32180088311254,
          -41.196999032191954,
          -41.03486976893896,
          -40.835789090778654,
          -40.60017635474045,
          -40.32849309082419,
          -40.02124181536616,
          -39.67896484440518,
          -39.30224310704859,
          -38.8916949588384,
          -38.44797499511726,
          -37.971772864394566,
          -37.46381208171252,
          -36.92484884201212,
          -36.355670833499296,
          -35.75709605101094,
          -35.12997160938091,
          -34.47517255680617,
          -33.79360068821274,
          -33.086183358621916,
          -32.35387229651608,
          -31.597642417205023,
          -30.81849063619184,
          -30.01743468253895,
          -29.195511912234316,
          -28.353778121557372,
          -27.49330636044506,
          -26.61518574585799,
          -25.720520275146473,
          -24.81042763941643,
          -23.886038036895695,
          -22.948492986299804,
          -21.998944140198276,
          -21.038552098380585,
          -20.068485221222105,
          -19.089918443050383,
          -18.10403208551096,
          -17.112010670933618,
          -16.115041735698394,
          -15.114314643601476,
          -14.111019399221476,
          -13.106345461285414,
          -12.101480556034634,
          -11.097609490591081,
          -10.095912966323251,
          -9.097566392212144,
          -8.103738698217555,
          -7.115591148643864,
          -6.134276155506318,
          -5.160936091896994,
          -4.1967021053507505,
          -3.2426929312115154,
          -2.3000137059980723,
          -1.3697547807703558,
          -0.45299053449539894,
          0.4492218125867039,
          1.335843385596549,
          2.2058548416494674,
          3.058257556489559,
          3.892074811123455,
          4.706352978454354,
          5.500162709916054,
          6.272600122106699,
          7.022787983422938,
          7.749876900693691,
          8.453046505814171,
          9.131506642379902,
          9.784498552320489,
          10.411296062533761,
          11.011206771519547,
          11.58357323601369,
          12.127774157622063,
          12.643225569454378,
          13.1293820227582,
          13.585737773552951,
          14.011827969263726,
          14.40722983535532,
          14.771563861966193,
          15.104494990542332,
          15.405733800471287,
          15.675037695716046,
          15.912212091448996,
          16.11711160068592,
          16.28964122091985,
          16.429757520755107,
          16.537469826541173,
          16.612841409006663,
          16.6559906698933,
          16.667092328589785,
          16.64637860876583,
          16.59414042500603,
          16.510728569443863,
          16.39655489839559,
          16.25209351899422,
          16.077881975823477,
          15.874522437551695,
          15.642682883565804,
          15.383098290605274,
          15.096571819396015,
          14.783976001284385,
          14.446253924871082,
          14.084420422645119,
          13.699563257617783,
          13.292844309956504,
          12.865500763618906,
          12.418846292986686,
          11.954272249499542,
          11.473248848289183,
          10.977326354813243,
          10.46813627148917,
          9.9473925243283,
          9.416892649569641,
          8.878518980313967,
          8.334239833157682,
          7.786110694826745,
          7.236275408810707,
          6.686967361996534,
          6.140510671302668,
          5.599321370312926,
          5.065908595910374,
          4.542875774911401,
          4.032921810699601,
          3.5388422698596544,
          3.0635305688113985,
          2.6099791604437015,
          2.18128072074837,
          1.780629335454201,
          1.4113216866608047,
          1.0767582394726551,
          0.7804444286329825,
          0.5259918451576958,
          0.3171194229693944,
          0.15765462553124368,
          0.05153463248097424,
          0.0028075262647968492,
          0.015633478771350275,
          0.09428593796565689,
          0.24315281452305182,
          0.4667376684631542,
          0.7696608957837804,
          1.156660915094892,
          1.6325953542525957,
          2.2024422369929826,
          2.871301169566209,
          3.6443945273703084,
          4.527068641585182,
          5.524794985806652,
          6.643171362680178,
          7.887923090535085,
          9.264904190018239,
          10.780098570728102,
          12.439621217848837,
          14.249719378783952,
          16.216773749790377,
          18.347299662612627,
          20.647948271116345,
          23.125507737922433,
          25.786904421041275,
          28.639204060506042,
          31.689612965007424,
          34.945479198526854,
          38.41429376697073,
          42.10369180480479,
          46.02145376168712,
          50.17550658910322,
          54.5739249269989,
          59.224932290414735,
          64.13690225612038,
          69.31835964924765,
          74.77798172992495,
          80.52459937991163,
          86.56719828923106,
          92.91492014280483,
          99.57706380708765,
          106.56308651669956,
          113.88260506106174,
          121.54539697102864,
          129.56140170552402,
          137.94072183817184,
          146.69362424393384,
          155.8305412857416,
          165.36207200112884,
          175.29898328886893,
          185.65221109560645,
          196.43286160249238,
          207.65221241181527,
          219.32171373363946,
          231.45298957243693,
          244.05783891371863,
          257.1482369106735,
          270.7363360708002,
          284.8344674425374,
          299.45514180190435,
          314.61105083913156,
          330.31506834529137,
          346.58025139893863,
          363.4198415527412,
          380.8472660201105,
          398.8761388618425,
          417.5202621727482,
          436.79362726828333,
          456.7104158711905,
          477.2850012981278,
          498.53194964630535,
          520.4660209801137,
          543.1021705177659,
          566.4555498179284,
          590.5415079663486,
          615.3755927624994,
          640.9735519062083,
          667.3513341842857,
          694.5250906571695,
          722.5111758455541,
          751.3261489170181,
          780.98677487267,
          811.5100257337742,
          842.9130817283901,
          875.2133324779951,
          908.4283781841339,
          942.5760308150452,
          977.6743152922883,
          1013.7414706773907,
          1050.7959513584763,
          1088.8564282368907,
          1127.9417899138514,
          1168.0711438770725,
          1209.2638176873916,
          1251.53936016542,
          1294.9175425781689,
          1339.418359825673,
          1385.0620316276438,
          1431.8690037100941,
          1479.859948991962,
          1529.0557687717642,
          1579.477593914217,
          1631.146786036878,
          1684.0849386967639,
          1738.3138785770075,
          1793.855666673481,
          1850.7325994814166,
          1908.9672101820659,
          1968.5822698293202,
          2029.6007885363347,
          2092.0460166621833,
          2155.941445998484,
          2221.310810956018,
          2288.1780897513895,
          2356.567505593642,
          2426.503527870904,
          2498.0108733369993,
          2571.1145072981135,
          2645.839644799413,
          2722.211751811662,
          2800.256546417887,
          2880
         ]
        }
       ],
       "layout": {
        "autosize": false,
        "height": 600,
        "template": {
         "data": {
          "bar": [
           {
            "error_x": {
             "color": "#2a3f5f"
            },
            "error_y": {
             "color": "#2a3f5f"
            },
            "marker": {
             "line": {
              "color": "#E5ECF6",
              "width": 0.5
             },
             "pattern": {
              "fillmode": "overlay",
              "size": 10,
              "solidity": 0.2
             }
            },
            "type": "bar"
           }
          ],
          "barpolar": [
           {
            "marker": {
             "line": {
              "color": "#E5ECF6",
              "width": 0.5
             },
             "pattern": {
              "fillmode": "overlay",
              "size": 10,
              "solidity": 0.2
             }
            },
            "type": "barpolar"
           }
          ],
          "carpet": [
           {
            "aaxis": {
             "endlinecolor": "#2a3f5f",
             "gridcolor": "white",
             "linecolor": "white",
             "minorgridcolor": "white",
             "startlinecolor": "#2a3f5f"
            },
            "baxis": {
             "endlinecolor": "#2a3f5f",
             "gridcolor": "white",
             "linecolor": "white",
             "minorgridcolor": "white",
             "startlinecolor": "#2a3f5f"
            },
            "type": "carpet"
           }
          ],
          "choropleth": [
           {
            "colorbar": {
             "outlinewidth": 0,
             "ticks": ""
            },
            "type": "choropleth"
           }
          ],
          "contour": [
           {
            "colorbar": {
             "outlinewidth": 0,
             "ticks": ""
            },
            "colorscale": [
             [
              0,
              "#0d0887"
             ],
             [
              0.1111111111111111,
              "#46039f"
             ],
             [
              0.2222222222222222,
              "#7201a8"
             ],
             [
              0.3333333333333333,
              "#9c179e"
             ],
             [
              0.4444444444444444,
              "#bd3786"
             ],
             [
              0.5555555555555556,
              "#d8576b"
             ],
             [
              0.6666666666666666,
              "#ed7953"
             ],
             [
              0.7777777777777778,
              "#fb9f3a"
             ],
             [
              0.8888888888888888,
              "#fdca26"
             ],
             [
              1,
              "#f0f921"
             ]
            ],
            "type": "contour"
           }
          ],
          "contourcarpet": [
           {
            "colorbar": {
             "outlinewidth": 0,
             "ticks": ""
            },
            "type": "contourcarpet"
           }
          ],
          "heatmap": [
           {
            "colorbar": {
             "outlinewidth": 0,
             "ticks": ""
            },
            "colorscale": [
             [
              0,
              "#0d0887"
             ],
             [
              0.1111111111111111,
              "#46039f"
             ],
             [
              0.2222222222222222,
              "#7201a8"
             ],
             [
              0.3333333333333333,
              "#9c179e"
             ],
             [
              0.4444444444444444,
              "#bd3786"
             ],
             [
              0.5555555555555556,
              "#d8576b"
             ],
             [
              0.6666666666666666,
              "#ed7953"
             ],
             [
              0.7777777777777778,
              "#fb9f3a"
             ],
             [
              0.8888888888888888,
              "#fdca26"
             ],
             [
              1,
              "#f0f921"
             ]
            ],
            "type": "heatmap"
           }
          ],
          "histogram": [
           {
            "marker": {
             "pattern": {
              "fillmode": "overlay",
              "size": 10,
              "solidity": 0.2
             }
            },
            "type": "histogram"
           }
          ],
          "histogram2d": [
           {
            "colorbar": {
             "outlinewidth": 0,
             "ticks": ""
            },
            "colorscale": [
             [
              0,
              "#0d0887"
             ],
             [
              0.1111111111111111,
              "#46039f"
             ],
             [
              0.2222222222222222,
              "#7201a8"
             ],
             [
              0.3333333333333333,
              "#9c179e"
             ],
             [
              0.4444444444444444,
              "#bd3786"
             ],
             [
              0.5555555555555556,
              "#d8576b"
             ],
             [
              0.6666666666666666,
              "#ed7953"
             ],
             [
              0.7777777777777778,
              "#fb9f3a"
             ],
             [
              0.8888888888888888,
              "#fdca26"
             ],
             [
              1,
              "#f0f921"
             ]
            ],
            "type": "histogram2d"
           }
          ],
          "histogram2dcontour": [
           {
            "colorbar": {
             "outlinewidth": 0,
             "ticks": ""
            },
            "colorscale": [
             [
              0,
              "#0d0887"
             ],
             [
              0.1111111111111111,
              "#46039f"
             ],
             [
              0.2222222222222222,
              "#7201a8"
             ],
             [
              0.3333333333333333,
              "#9c179e"
             ],
             [
              0.4444444444444444,
              "#bd3786"
             ],
             [
              0.5555555555555556,
              "#d8576b"
             ],
             [
              0.6666666666666666,
              "#ed7953"
             ],
             [
              0.7777777777777778,
              "#fb9f3a"
             ],
             [
              0.8888888888888888,
              "#fdca26"
             ],
             [
              1,
              "#f0f921"
             ]
            ],
            "type": "histogram2dcontour"
           }
          ],
          "mesh3d": [
           {
            "colorbar": {
             "outlinewidth": 0,
             "ticks": ""
            },
            "type": "mesh3d"
           }
          ],
          "parcoords": [
           {
            "line": {
             "colorbar": {
              "outlinewidth": 0,
              "ticks": ""
             }
            },
            "type": "parcoords"
           }
          ],
          "pie": [
           {
            "automargin": true,
            "type": "pie"
           }
          ],
          "scatter": [
           {
            "fillpattern": {
             "fillmode": "overlay",
             "size": 10,
             "solidity": 0.2
            },
            "type": "scatter"
           }
          ],
          "scatter3d": [
           {
            "line": {
             "colorbar": {
              "outlinewidth": 0,
              "ticks": ""
             }
            },
            "marker": {
             "colorbar": {
              "outlinewidth": 0,
              "ticks": ""
             }
            },
            "type": "scatter3d"
           }
          ],
          "scattercarpet": [
           {
            "marker": {
             "colorbar": {
              "outlinewidth": 0,
              "ticks": ""
             }
            },
            "type": "scattercarpet"
           }
          ],
          "scattergeo": [
           {
            "marker": {
             "colorbar": {
              "outlinewidth": 0,
              "ticks": ""
             }
            },
            "type": "scattergeo"
           }
          ],
          "scattergl": [
           {
            "marker": {
             "colorbar": {
              "outlinewidth": 0,
              "ticks": ""
             }
            },
            "type": "scattergl"
           }
          ],
          "scattermap": [
           {
            "marker": {
             "colorbar": {
              "outlinewidth": 0,
              "ticks": ""
             }
            },
            "type": "scattermap"
           }
          ],
          "scattermapbox": [
           {
            "marker": {
             "colorbar": {
              "outlinewidth": 0,
              "ticks": ""
             }
            },
            "type": "scattermapbox"
           }
          ],
          "scatterpolar": [
           {
            "marker": {
             "colorbar": {
              "outlinewidth": 0,
              "ticks": ""
             }
            },
            "type": "scatterpolar"
           }
          ],
          "scatterpolargl": [
           {
            "marker": {
             "colorbar": {
              "outlinewidth": 0,
              "ticks": ""
             }
            },
            "type": "scatterpolargl"
           }
          ],
          "scatterternary": [
           {
            "marker": {
             "colorbar": {
              "outlinewidth": 0,
              "ticks": ""
             }
            },
            "type": "scatterternary"
           }
          ],
          "surface": [
           {
            "colorbar": {
             "outlinewidth": 0,
             "ticks": ""
            },
            "colorscale": [
             [
              0,
              "#0d0887"
             ],
             [
              0.1111111111111111,
              "#46039f"
             ],
             [
              0.2222222222222222,
              "#7201a8"
             ],
             [
              0.3333333333333333,
              "#9c179e"
             ],
             [
              0.4444444444444444,
              "#bd3786"
             ],
             [
              0.5555555555555556,
              "#d8576b"
             ],
             [
              0.6666666666666666,
              "#ed7953"
             ],
             [
              0.7777777777777778,
              "#fb9f3a"
             ],
             [
              0.8888888888888888,
              "#fdca26"
             ],
             [
              1,
              "#f0f921"
             ]
            ],
            "type": "surface"
           }
          ],
          "table": [
           {
            "cells": {
             "fill": {
              "color": "#EBF0F8"
             },
             "line": {
              "color": "white"
             }
            },
            "header": {
             "fill": {
              "color": "#C8D4E3"
             },
             "line": {
              "color": "white"
             }
            },
            "type": "table"
           }
          ]
         },
         "layout": {
          "annotationdefaults": {
           "arrowcolor": "#2a3f5f",
           "arrowhead": 0,
           "arrowwidth": 1
          },
          "autotypenumbers": "strict",
          "coloraxis": {
           "colorbar": {
            "outlinewidth": 0,
            "ticks": ""
           }
          },
          "colorscale": {
           "diverging": [
            [
             0,
             "#8e0152"
            ],
            [
             0.1,
             "#c51b7d"
            ],
            [
             0.2,
             "#de77ae"
            ],
            [
             0.3,
             "#f1b6da"
            ],
            [
             0.4,
             "#fde0ef"
            ],
            [
             0.5,
             "#f7f7f7"
            ],
            [
             0.6,
             "#e6f5d0"
            ],
            [
             0.7,
             "#b8e186"
            ],
            [
             0.8,
             "#7fbc41"
            ],
            [
             0.9,
             "#4d9221"
            ],
            [
             1,
             "#276419"
            ]
           ],
           "sequential": [
            [
             0,
             "#0d0887"
            ],
            [
             0.1111111111111111,
             "#46039f"
            ],
            [
             0.2222222222222222,
             "#7201a8"
            ],
            [
             0.3333333333333333,
             "#9c179e"
            ],
            [
             0.4444444444444444,
             "#bd3786"
            ],
            [
             0.5555555555555556,
             "#d8576b"
            ],
            [
             0.6666666666666666,
             "#ed7953"
            ],
            [
             0.7777777777777778,
             "#fb9f3a"
            ],
            [
             0.8888888888888888,
             "#fdca26"
            ],
            [
             1,
             "#f0f921"
            ]
           ],
           "sequentialminus": [
            [
             0,
             "#0d0887"
            ],
            [
             0.1111111111111111,
             "#46039f"
            ],
            [
             0.2222222222222222,
             "#7201a8"
            ],
            [
             0.3333333333333333,
             "#9c179e"
            ],
            [
             0.4444444444444444,
             "#bd3786"
            ],
            [
             0.5555555555555556,
             "#d8576b"
            ],
            [
             0.6666666666666666,
             "#ed7953"
            ],
            [
             0.7777777777777778,
             "#fb9f3a"
            ],
            [
             0.8888888888888888,
             "#fdca26"
            ],
            [
             1,
             "#f0f921"
            ]
           ]
          },
          "colorway": [
           "#636efa",
           "#EF553B",
           "#00cc96",
           "#ab63fa",
           "#FFA15A",
           "#19d3f3",
           "#FF6692",
           "#B6E880",
           "#FF97FF",
           "#FECB52"
          ],
          "font": {
           "color": "#2a3f5f"
          },
          "geo": {
           "bgcolor": "white",
           "lakecolor": "white",
           "landcolor": "#E5ECF6",
           "showlakes": true,
           "showland": true,
           "subunitcolor": "white"
          },
          "hoverlabel": {
           "align": "left"
          },
          "hovermode": "closest",
          "mapbox": {
           "style": "light"
          },
          "paper_bgcolor": "white",
          "plot_bgcolor": "#E5ECF6",
          "polar": {
           "angularaxis": {
            "gridcolor": "white",
            "linecolor": "white",
            "ticks": ""
           },
           "bgcolor": "#E5ECF6",
           "radialaxis": {
            "gridcolor": "white",
            "linecolor": "white",
            "ticks": ""
           }
          },
          "scene": {
           "xaxis": {
            "backgroundcolor": "#E5ECF6",
            "gridcolor": "white",
            "gridwidth": 2,
            "linecolor": "white",
            "showbackground": true,
            "ticks": "",
            "zerolinecolor": "white"
           },
           "yaxis": {
            "backgroundcolor": "#E5ECF6",
            "gridcolor": "white",
            "gridwidth": 2,
            "linecolor": "white",
            "showbackground": true,
            "ticks": "",
            "zerolinecolor": "white"
           },
           "zaxis": {
            "backgroundcolor": "#E5ECF6",
            "gridcolor": "white",
            "gridwidth": 2,
            "linecolor": "white",
            "showbackground": true,
            "ticks": "",
            "zerolinecolor": "white"
           }
          },
          "shapedefaults": {
           "line": {
            "color": "#2a3f5f"
           }
          },
          "ternary": {
           "aaxis": {
            "gridcolor": "white",
            "linecolor": "white",
            "ticks": ""
           },
           "baxis": {
            "gridcolor": "white",
            "linecolor": "white",
            "ticks": ""
           },
           "bgcolor": "#E5ECF6",
           "caxis": {
            "gridcolor": "white",
            "linecolor": "white",
            "ticks": ""
           }
          },
          "title": {
           "x": 0.05
          },
          "xaxis": {
           "automargin": true,
           "gridcolor": "white",
           "linecolor": "white",
           "ticks": "",
           "title": {
            "standoff": 15
           },
           "zerolinecolor": "white",
           "zerolinewidth": 2
          },
          "yaxis": {
           "automargin": true,
           "gridcolor": "white",
           "linecolor": "white",
           "ticks": "",
           "title": {
            "standoff": 15
           },
           "zerolinecolor": "white",
           "zerolinewidth": 2
          }
         }
        },
        "title": {
         "text": "Plot of y = x(x-2)^2(x+3)^2"
        },
        "width": 800,
        "xaxis": {
         "range": [
          -5,
          5
         ],
         "title": {
          "text": "x"
         }
        },
        "yaxis": {
         "range": [
          -60,
          40
         ],
         "title": {
          "text": "y"
         }
        }
       }
      }
     },
     "metadata": {},
     "output_type": "display_data"
    }
   ],
   "source": [
    "import numpy as np\n",
    "\n",
    "import plotly.graph_objs as go\n",
    "\n",
    "x_vals = np.linspace(-5, 5, 400)\n",
    "y_vals = [quintic_function([x]) for x in x_vals]\n",
    "\n",
    "fig = go.Figure()\n",
    "fig.add_trace(go.Scatter(x=x_vals, y=y_vals, mode='lines', name='y = x(x-2)^2(x+3)^2'))\n",
    "fig.update_layout(title='Plot of y = x(x-2)^2(x+3)^2',\n",
    "                  xaxis_title='x',\n",
    "                  yaxis_title='y',\n",
    "                  xaxis=dict(range=[-5, 5]),\n",
    "                  yaxis=dict(range=[-60, 40]),\n",
    "                  autosize=False,\n",
    "                  width=800,\n",
    "                  height=600)\n",
    "fig.show()"
   ]
  },
  {
   "cell_type": "code",
   "execution_count": 3,
   "id": "07043472",
   "metadata": {},
   "outputs": [
    {
     "name": "stdout",
     "output_type": "stream",
     "text": [
      "PSO - Best params: [0.8357816668307432], Best fitness: 16.66746172781478\n",
      "WOA - Best params: [0.83578277], Best fitness: 16.667461727784158\n"
     ]
    }
   ],
   "source": [
    "from algos.base import BaseAlgo\n",
    "from algos.pso import PSO\n",
    "from algos.woa import WOA\n",
    "\n",
    "for Algo in [PSO, WOA]:\n",
    "    assert issubclass(Algo, BaseAlgo)\n",
    "    algo = Algo(bounds=[(0,2)], eval_func=quintic_function)\n",
    "    algo.optimise()\n",
    "    print(f\"{algo.name} - Best params: {algo.best_params}, Best fitness: {algo.best_fitness}\")"
   ]
  },
  {
   "cell_type": "markdown",
   "id": "bc9b73c5",
   "metadata": {},
   "source": [
    "You can verify this in the plot above. (Try changing the bounds of x to see how it can find different maximums.)"
   ]
  }
 ],
 "metadata": {
  "kernelspec": {
   "display_name": ".venv",
   "language": "python",
   "name": "python3"
  },
  "language_info": {
   "codemirror_mode": {
    "name": "ipython",
    "version": 3
   },
   "file_extension": ".py",
   "mimetype": "text/x-python",
   "name": "python",
   "nbconvert_exporter": "python",
   "pygments_lexer": "ipython3",
   "version": "3.13.2"
  }
 },
 "nbformat": 4,
 "nbformat_minor": 5
}
