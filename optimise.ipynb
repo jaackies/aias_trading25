{
 "cells": [
  {
   "cell_type": "code",
   "execution_count": 13,
   "id": "fdbff98f",
   "metadata": {},
   "outputs": [
    {
     "name": "stdout",
     "output_type": "stream",
     "text": [
      "The autoreload extension is already loaded. To reload it, use:\n",
      "  %reload_ext autoreload\n"
     ]
    }
   ],
   "source": [
    "%load_ext autoreload\n",
    "%autoreload 2\n",
    "\n",
    "from datasets.kaggle import KaggleDataset\n",
    "import pandas as pd\n",
    "import numpy as np\n",
    "\n",
    "np.set_printoptions(precision=4, suppress=True)\n"
   ]
  },
  {
   "cell_type": "code",
   "execution_count": 14,
   "id": "9ef40258",
   "metadata": {},
   "outputs": [],
   "source": [
    "dataset = KaggleDataset(\"Daily\")\n",
    "\n",
    "price, _ = dataset.get_price_date_series(pd.Timestamp(\"2014-1-1\"), pd.Timestamp(\"2020-1-1\"))\n",
    "test_price, _ =  dataset.get_price_date_series(pd.Timestamp(\"2020-1-1\"), pd.Timestamp(\"2030-1-1\"))\n",
    "\n"
   ]
  },
  {
   "cell_type": "code",
   "execution_count": 15,
   "id": "1c37a6f3",
   "metadata": {},
   "outputs": [],
   "source": [
    "from bot import sim_bot\n",
    "\n",
    "\n",
    "def make_eval_fn(signal_fn, data):\n",
    "    return lambda params: sim_bot(signal_fn(data, *params), data)"
   ]
  },
  {
   "cell_type": "code",
   "execution_count": 16,
   "id": "43dff685",
   "metadata": {},
   "outputs": [
    {
     "data": {
      "text/plain": [
       "np.float64(15853.902822652713)"
      ]
     },
     "execution_count": 16,
     "metadata": {},
     "output_type": "execute_result"
    }
   ],
   "source": [
    "from signals import complex_bot_signal\n",
    "\n",
    "\n",
    "make_eval_fn(complex_bot_signal, price)(\n",
    "    # [4.278230671973636, 0.865252195291832, 0.0, 3, 7, 10, 0.31059751807297614, 0.0, 0.120024368485694, 3.2940466241589794, 18, 16, 11, 0.2092176436327862]\n",
    "[10, np.float64(7.754061641966129), 0, 9, 10, 2, np.float64(0.9345906704777743), np.float64(7.985432086118452), np.float64(7.946909890121933), np.float64(6.595885997648705), 39, 20, 40, np.float64(0.10363120673044302)]\n",
    ")"
   ]
  },
  {
   "cell_type": "code",
   "execution_count": 17,
   "id": "fa094c36",
   "metadata": {},
   "outputs": [
    {
     "name": "stdout",
     "output_type": "stream",
     "text": [
      "best sol:  [2.7655303811508247, 0.04306562252027901, 8.056341946465022, 1, 2, 3, 0.4386279542731305, 9.64954443188254, 7.186451007795958, 2.36120833318069, 33, 15, 11, 0.4774600546539164]\n",
      "best score:  2781.9341409679832\n"
     ]
    }
   ],
   "source": [
    "from algos.woa import WOA\n",
    "from algos.pso import PSO\n",
    "from algos.hill import HC\n",
    "\n",
    "eval_fn = make_eval_fn(complex_bot_signal, price)\n",
    "\n",
    "woa = HC(\n",
    "    eval_fn,\n",
    "    [\n",
    "        # (0.01, 1),\n",
    "        # (0.01, 1),\n",
    "        # (0.01, 1),\n",
    "        # (2, len(test_price)/2),\n",
    "        # (2, len(test_price)/2),\n",
    "        # (2, len(test_price)/2),\n",
    "        # (0.01, 1),\n",
    "        # (0.01, 1),\n",
    "        # (0.01, 1),\n",
    "        # (0.01, 1),\n",
    "        # (2, len(test_price)/2),\n",
    "        # (2, len(test_price)/2),\n",
    "        # (2, len(test_price)/2),\n",
    "        # (0.01, 1),\n",
    "\n",
    "        (0, 10),\n",
    "        (0, 10),\n",
    "        (0, 10),\n",
    "        (1, 10),\n",
    "        (1, 10),\n",
    "        (1, 10),\n",
    "        (0.01, 1),\n",
    "        (0, 10),\n",
    "        (0, 10),\n",
    "        (0, 10),\n",
    "        (11, 40),\n",
    "        (11, 40),\n",
    "        (11, 40),\n",
    "        (0.01, 1),\n",
    "    ],\n",
    "    [3, 4, 5, 10, 11, 12],\n",
    ")\n",
    "\n",
    "woa.optimise()\n",
    "\n",
    "print(\"best sol: \", woa.best_params)\n",
    "print(\"best score: \", eval_fn(woa.best_params))"
   ]
  },
  {
   "cell_type": "code",
   "execution_count": 18,
   "id": "28d76e74",
   "metadata": {},
   "outputs": [
    {
     "name": "stdout",
     "output_type": "stream",
     "text": [
      "test score:  870.3100950350441\n"
     ]
    }
   ],
   "source": [
    "eval_fn = make_eval_fn(complex_bot_signal, test_price)\n",
    "print(\"test score: \", eval_fn(woa.best_params))"
   ]
  },
  {
   "cell_type": "markdown",
   "id": "a66900a9",
   "metadata": {},
   "source": [
    "notice how the the window size is limited to half the test set length, if our wmas were able to use data from before the given dataset (which is appropriate as in reality all historical data is available) we could have a window size as large as half of the entire length of history."
   ]
  }
 ],
 "metadata": {
  "kernelspec": {
   "display_name": ".venv",
   "language": "python",
   "name": "python3"
  },
  "language_info": {
   "codemirror_mode": {
    "name": "ipython",
    "version": 3
   },
   "file_extension": ".py",
   "mimetype": "text/x-python",
   "name": "python",
   "nbconvert_exporter": "python",
   "pygments_lexer": "ipython3",
   "version": "3.13.2"
  }
 },
 "nbformat": 4,
 "nbformat_minor": 5
}
