{
 "cells": [
  {
   "cell_type": "code",
   "execution_count": 1,
   "id": "fdbff98f",
   "metadata": {},
   "outputs": [],
   "source": [
    "from signals import complex_signal, buy_sell_signal, diff_signal\n",
    "from datasets.kaggle import KaggleDataset\n",
    "import pandas as pd\n",
    "import numpy as np"
   ]
  },
  {
   "cell_type": "code",
   "execution_count": 2,
   "id": "9ef40258",
   "metadata": {},
   "outputs": [],
   "source": [
    "\n",
    "def get_price_date(start: pd.Timestamp, end: pd.Timestamp) -> tuple[np.ndarray, np.ndarray]: # -> price, date\n",
    "    dataset = KaggleDataset(\"Daily\")\n",
    "    df = dataset.get_timerange(start, end)\n",
    "    return df[\"close\"].values, df[\"date\"].values\n",
    "\n",
    "price, date = get_price_date(pd.Timestamp(\"2018-1-1\"), pd.Timestamp(\"2020-1-1\"))"
   ]
  },
  {
   "cell_type": "code",
   "execution_count": 3,
   "id": "1c37a6f3",
   "metadata": {},
   "outputs": [],
   "source": [
    "def eval_fn(params):\n",
    "    hw1, hw2, hw3, hd1, hd2, hd3, hsf, lw1, lw2, lw3, ld1, ld2, ld3, lsf = params\n",
    "\n",
    "    high_freq = complex_signal(price, hw1, hw2, hw3, hd1, hd2, hd3, hsf)\n",
    "    low_freq = complex_signal(price, lw1, lw2, lw3, ld1, ld2, ld3, lsf)\n",
    "\n",
    "    buy_sell = buy_sell_signal(diff_signal(high_freq, low_freq))\n",
    "\n",
    "    # assuming each trade will trade all units and each trade has a fee of 3% calculate the cash held at the end given 1000 initial cash\n",
    "    cash = 1000\n",
    "    bitcoin = 0\n",
    "    for p, bs in zip(price, buy_sell):\n",
    "        if bs > 0:\n",
    "            bitcoin = (cash * (1 - 0.03)) / p\n",
    "            cash = 0\n",
    "        elif bs < 0:\n",
    "            cash = (bitcoin * (1 - 0.03)) * p\n",
    "            bitcoin = 0\n",
    "\n",
    "    if bitcoin > 0:\n",
    "        cash = (bitcoin * (1 - 0.03)) * price[-1]\n",
    "        bitcoin = 0\n",
    "\n",
    "    return cash"
   ]
  },
  {
   "cell_type": "code",
   "execution_count": 9,
   "id": "3f69b577",
   "metadata": {},
   "outputs": [
    {
     "data": {
      "text/plain": [
       "np.float64(2349.3667665590106)"
      ]
     },
     "execution_count": 9,
     "metadata": {},
     "output_type": "execute_result"
    }
   ],
   "source": [
    "# Test eval # EMA is high freq, LMA is low freq\n",
    "\n",
    "W = 100\n",
    "eval_fn([0, 0, 1, 0, 0, W, 2/(W+1), 0, 1, 0, 0, W, 0, 0])"
   ]
  }
 ],
 "metadata": {
  "kernelspec": {
   "display_name": ".venv",
   "language": "python",
   "name": "python3"
  },
  "language_info": {
   "codemirror_mode": {
    "name": "ipython",
    "version": 3
   },
   "file_extension": ".py",
   "mimetype": "text/x-python",
   "name": "python",
   "nbconvert_exporter": "python",
   "pygments_lexer": "ipython3",
   "version": "3.13.2"
  }
 },
 "nbformat": 4,
 "nbformat_minor": 5
}
