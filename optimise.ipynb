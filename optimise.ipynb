{
 "cells": [
  {
   "cell_type": "code",
   "execution_count": 1,
   "id": "fdbff98f",
   "metadata": {},
   "outputs": [],
   "source": [
    "from signals import complex_signal, holding_signal\n",
    "from datasets.kaggle import KaggleDataset\n",
    "import pandas as pd\n",
    "import numpy as np\n",
    "\n",
    "np.set_printoptions(precision=4, suppress=True)\n"
   ]
  },
  {
   "cell_type": "code",
   "execution_count": 2,
   "id": "9ef40258",
   "metadata": {},
   "outputs": [],
   "source": [
    "def get_price_date(\n",
    "    start: pd.Timestamp, end: pd.Timestamp\n",
    ") -> tuple[np.ndarray, np.ndarray]:  # -> price, date\n",
    "    dataset = KaggleDataset(\"Daily\")\n",
    "    df = dataset.get_timerange(start, end)\n",
    "    return df[\"close\"].values, df[\"date\"].values\n",
    "\n",
    "\n",
    "price, date = get_price_date(pd.Timestamp(\"2018-1-1\"), pd.Timestamp(\"2020-1-1\"))"
   ]
  },
  {
   "cell_type": "code",
   "execution_count": 3,
   "id": "1c37a6f3",
   "metadata": {},
   "outputs": [],
   "source": [
    "from bot import sim_bot\n",
    "\n",
    "def eval_fn(params):\n",
    "    hw1, hw2, hw3, hd1, hd2, hd3, hsf, lw1, lw2, lw3, ld1, ld2, ld3, lsf = params\n",
    "\n",
    "    high_freq = complex_signal(price, hw1, hw2, hw3, int(hd1), int(hd2), int(hd3), hsf)\n",
    "    low_freq = complex_signal(price, lw1, lw2, lw3, int(ld1), int(ld2), int(ld3), lsf)\n",
    "    \n",
    "    return sim_bot(holding_signal(high_freq, low_freq), price)"
   ]
  },
  {
   "cell_type": "code",
   "execution_count": 4,
   "id": "3f69b577",
   "metadata": {},
   "outputs": [
    {
     "name": "stdout",
     "output_type": "stream",
     "text": [
      "15268.523682239718\n"
     ]
    }
   ],
   "source": [
    "# Test eval # EMA is high freq, LMA is low freq\n",
    "\n",
    "# W = 100\n",
    "# eval_fn([0, 0, 1, 0, 0, W, 2/(W+1), 0, 1, 0, 0, W, 0, 0])\n",
    "# [2.066281795501709, 1.7877318859100342, 1.834380865097046, 1.772376298904419, 1.6807661056518555, 1.9571168422698975, 1.6476001739501953, 2.068119764328003, 2.2466516494750977, 1.7766005992889404]\n",
    "print(eval_fn(\n",
    "    [\n",
    "        0.034499,\n",
    "        0.992755,\n",
    "        0.431289,\n",
    "        568.466155,\n",
    "        638.848069,\n",
    "        619.925735,\n",
    "        0.33447,\n",
    "        0.786569,\n",
    "        0.411078,\n",
    "        0.164846,\n",
    "        581.086939,\n",
    "        38.867306,\n",
    "        361.510681,\n",
    "        0.710678,\n",
    "    ]\n",
    "))"
   ]
  },
  {
   "cell_type": "code",
   "execution_count": 5,
   "id": "fa094c36",
   "metadata": {},
   "outputs": [
    {
     "name": "stdout",
     "output_type": "stream",
     "text": [
      "best sol:  [np.float64(0.5429975437411074), np.float64(0.40640417940103934), np.float64(0.5964841223855873), 687, 247, 708, 0.01, np.float64(0.5514779840533692), np.float64(0.7344327202483314), np.float64(0.18200371269065366), 34, 542, 437, np.float64(0.5709313178320661)]\n",
      "best score:  10715.187549703345\n"
     ]
    }
   ],
   "source": [
    "from algos.woa import WOA\n",
    "from algos.pso import PSO\n",
    "\n",
    "woa = PSO(\n",
    "    eval_fn,\n",
    "    [\n",
    "        (0.01, 1),\n",
    "        (0.01, 1),\n",
    "        (0.01, 1),\n",
    "        (2, len(price)),\n",
    "        (2, len(price)),\n",
    "        (2, len(price)),\n",
    "        (0.01, 1),\n",
    "        (0.01, 1),\n",
    "        (0.01, 1),\n",
    "        (0.01, 1),\n",
    "        (2, len(price)),\n",
    "        (2, len(price)),\n",
    "        (2, len(price)),\n",
    "        (0.01, 1),\n",
    "    ],\n",
    "    [3, 4, 5, 10, 11, 12],\n",
    ")\n",
    "\n",
    "woa.optimise()\n",
    "\n",
    "print(\"best sol: \", woa.best_params)\n",
    "print(\"best score: \", eval_fn(woa.best_params))"
   ]
  }
 ],
 "metadata": {
  "kernelspec": {
   "display_name": ".venv",
   "language": "python",
   "name": "python3"
  },
  "language_info": {
   "codemirror_mode": {
    "name": "ipython",
    "version": 3
   },
   "file_extension": ".py",
   "mimetype": "text/x-python",
   "name": "python",
   "nbconvert_exporter": "python",
   "pygments_lexer": "ipython3",
   "version": "3.13.2"
  }
 },
 "nbformat": 4,
 "nbformat_minor": 5
}
